{
 "cells": [
  {
   "cell_type": "markdown",
   "id": "a5ae3df0-c69b-46ae-bcd1-89b539e7c4be",
   "metadata": {},
   "source": [
    "# Bereiche und Intervalle"
   ]
  },
  {
   "cell_type": "code",
   "execution_count": null,
   "id": "dafec662-a0cb-47cb-89c5-ad1bbba52ff1",
   "metadata": {},
   "outputs": [],
   "source": [
    "import pandas as pd\n",
    "import numpy as np\n",
    "import time"
   ]
  },
  {
   "cell_type": "markdown",
   "id": "90c93dc0-0261-414b-a94c-7138e5bcd0c5",
   "metadata": {},
   "source": [
    "Python-Bereiche: liefert Generator"
   ]
  },
  {
   "cell_type": "code",
   "execution_count": null,
   "id": "f84a32fe-e99a-40d3-b5e5-784fc6b220de",
   "metadata": {},
   "outputs": [],
   "source": [
    "range(1, 11, 2)\n",
    "np.array([x for x in range(1, 11, 2)])"
   ]
  },
  {
   "cell_type": "markdown",
   "id": "68c4c364-99b0-4c88-9ea7-2d857e9f164e",
   "metadata": {},
   "source": [
    "NumPy-Äquivalent, Parameter: Start, Ende (exclusive), Abstand"
   ]
  },
  {
   "cell_type": "code",
   "execution_count": null,
   "id": "6a63759d-af2e-4d54-9903-f40f38221a8e",
   "metadata": {},
   "outputs": [],
   "source": [
    "np.arange(1, 11, 0.5)"
   ]
  },
  {
   "cell_type": "markdown",
   "id": "ec589b73-9f14-43dc-8cd1-c2ffd5c53f74",
   "metadata": {},
   "source": [
    "Beispiel: Funktionsgraph, Erzeugen x-Werte"
   ]
  },
  {
   "cell_type": "code",
   "execution_count": null,
   "id": "a16f7492-62d4-4b8a-9ab6-fd3ab925fc4d",
   "metadata": {},
   "outputs": [],
   "source": [
    "x = np.arange(-20, 20.1, 0.5)\n",
    "x"
   ]
  },
  {
   "cell_type": "markdown",
   "id": "8b861f2b-a566-4cee-9fae-4c5ffbfcac69",
   "metadata": {},
   "source": [
    "Beispielfunktionen, Warnung wegen Nulldivision"
   ]
  },
  {
   "cell_type": "code",
   "execution_count": null,
   "id": "998cd9d2-90b8-4da6-a95b-588066ae24fe",
   "metadata": {},
   "outputs": [],
   "source": [
    "y1 = np.sin(x)/x\n",
    "y2 = np.cos(x)"
   ]
  },
  {
   "cell_type": "markdown",
   "id": "50b7ec5a-df7d-4711-816b-6025382e0dae",
   "metadata": {},
   "source": [
    "Darstellung, x-Achse als Index verwenden"
   ]
  },
  {
   "cell_type": "code",
   "execution_count": null,
   "id": "75ce54b2-1b2a-48ee-a638-e3d321ff70f7",
   "metadata": {},
   "outputs": [],
   "source": [
    "pd.DataFrame({'y1': y1, 'y2': y2}, index=x).plot.line()"
   ]
  },
  {
   "cell_type": "markdown",
   "id": "b69fd5b1-fae9-4f0f-b0a5-06ab4c56adb9",
   "metadata": {},
   "source": [
    "Alternativ: Linspace, Parameter: Start, Ende (inclusive), Anzahl Punkte"
   ]
  },
  {
   "cell_type": "code",
   "execution_count": null,
   "id": "f5e608af-2e70-45f3-ae38-05f229eb1945",
   "metadata": {},
   "outputs": [],
   "source": [
    "x = np.linspace(-20, 20, 100)\n",
    "x.shape, x"
   ]
  },
  {
   "cell_type": "markdown",
   "id": "9f067161-a5bf-46be-bdef-8b867c80f12e",
   "metadata": {},
   "source": [
    "Gleiches Beispiel Funktionsdarstellung"
   ]
  },
  {
   "cell_type": "code",
   "execution_count": null,
   "id": "7f9696e4-06cc-4684-850f-e00d78869d36",
   "metadata": {},
   "outputs": [],
   "source": [
    "y1 = np.sin(x)/x\n",
    "y2 = np.cos(x)"
   ]
  },
  {
   "cell_type": "code",
   "execution_count": null,
   "id": "41049033-dcf1-4f0f-8459-32acb1acfb34",
   "metadata": {},
   "outputs": [],
   "source": [
    "pd.DataFrame({'y1': y1, 'y2': y2}, index=x).plot.line()"
   ]
  },
  {
   "cell_type": "markdown",
   "id": "665a3431-b502-434b-9370-0fd0e96e300c",
   "metadata": {},
   "source": [
    "Beispiel für logarithmischen Bereich: Sortierdauer\n",
    "\n",
    "Erzeugen eines Vektors der Länge n mit Zufallswerten"
   ]
  },
  {
   "cell_type": "code",
   "execution_count": null,
   "id": "dad1130b-38d4-48ff-8f4a-1fb8688e9581",
   "metadata": {},
   "outputs": [],
   "source": [
    "def rand_vec(n):\n",
    "    return np.random.randint(0, 1000, n)"
   ]
  },
  {
   "cell_type": "markdown",
   "id": "7d340f78-bca8-440d-aaf1-e67faea0cb09",
   "metadata": {},
   "source": [
    "Test der Funktion und des Sortierens"
   ]
  },
  {
   "cell_type": "code",
   "execution_count": null,
   "id": "f5114e12-16db-4615-b7d4-df419e72bdbc",
   "metadata": {},
   "outputs": [],
   "source": [
    "v = rand_vec(100)\n",
    "print(v)\n",
    "np.sort(v)"
   ]
  },
  {
   "cell_type": "markdown",
   "id": "ffacfbc0-f09d-4c78-a84e-c596bd4a09a5",
   "metadata": {},
   "source": [
    "Logarithmischer Bereich: Logspace, Parameter: Startexponent, Endexponent (incl.), [Basis = 10, Datentyp = float64]"
   ]
  },
  {
   "cell_type": "code",
   "execution_count": null,
   "id": "51839529-af87-4e55-8b99-a9a8d3a69176",
   "metadata": {},
   "outputs": [],
   "source": [
    "np.logspace(0, 4, 9, base=10, dtype=int)"
   ]
  },
  {
   "cell_type": "markdown",
   "id": "b9b435e4-37cc-4b54-b41a-dc004e7eb8a0",
   "metadata": {},
   "source": [
    "Bereich für Feldgrößen: 10 bis 10 Mio., Feldgröße muss ganzzahlig sein"
   ]
  },
  {
   "cell_type": "code",
   "execution_count": null,
   "id": "1bef94b8-0b8d-4ebf-be0c-0bf24950fcf2",
   "metadata": {},
   "outputs": [],
   "source": [
    "nn = np.logspace(1, 7, 30, dtype=int)\n",
    "nn"
   ]
  },
  {
   "cell_type": "markdown",
   "id": "6323b33e-130f-4207-812b-e121ef7b4fac",
   "metadata": {},
   "source": [
    "Bestimmen der Sortierzeit für diese Feldgrößen"
   ]
  },
  {
   "cell_type": "code",
   "execution_count": null,
   "id": "0f7eb137-40d3-4e5c-9b9f-68684af54abf",
   "metadata": {},
   "outputs": [],
   "source": [
    "sort_times = list()\n",
    "for n in nn:\n",
    "    v = rand_vec(n)\n",
    "    t0 = time.process_time()\n",
    "    np.sort(v)\n",
    "    t1 = time.process_time()\n",
    "    sort_times.append(t1-t0)\n",
    "sort_times"
   ]
  },
  {
   "cell_type": "markdown",
   "id": "0b04e919-dd13-4885-985d-25538ba7022a",
   "metadata": {},
   "source": [
    "Darstellung, logarithmische x-Skala"
   ]
  },
  {
   "cell_type": "code",
   "execution_count": null,
   "id": "33481615-ff96-44e7-a198-bda86ab3b45c",
   "metadata": {},
   "outputs": [],
   "source": [
    "pd.DataFrame(sort_times, index=nn).plot.line(logx=True)"
   ]
  },
  {
   "cell_type": "markdown",
   "id": "d14339d8-c36c-4529-ad69-e8188e9ad563",
   "metadata": {},
   "source": [
    "## Umwandeln stetige Größe in Klassen (Binning)"
   ]
  },
  {
   "cell_type": "markdown",
   "id": "24697ecc-154a-4536-8f86-8158a285b5e8",
   "metadata": {},
   "source": [
    "Einlesen Beispieldatensatz"
   ]
  },
  {
   "cell_type": "code",
   "execution_count": null,
   "id": "15aba48d-1dec-44ab-9ac7-35593d5d4f5e",
   "metadata": {},
   "outputs": [],
   "source": [
    "diamonds = pd.read_csv('brilliantdia-train.csv')\n",
    "diamonds.info()"
   ]
  },
  {
   "cell_type": "markdown",
   "id": "f0faa37d-765d-48aa-b121-4052c07f5dbf",
   "metadata": {},
   "source": [
    "Minimaler und maximaler Preis"
   ]
  },
  {
   "cell_type": "code",
   "execution_count": null,
   "id": "a3537f4c-0cd5-466b-8327-7d4a070565ff",
   "metadata": {},
   "outputs": [],
   "source": [
    "price_min = diamonds.price.min()\n",
    "price_max = diamonds.price.max()\n",
    "price_min, price_max"
   ]
  },
  {
   "cell_type": "markdown",
   "id": "f7dac2d0-62ad-41a2-88d5-f1113a3096cb",
   "metadata": {},
   "source": [
    "Linearer Bereich, der das Preisintervall komplett überdeckt\n",
    "\n",
    "- Manipulation des 1. und letzten Wertes, falls kleinere oder größere Preise in zukünftigen Daten auftauchen"
   ]
  },
  {
   "cell_type": "code",
   "execution_count": null,
   "id": "44f72e3c-ee4b-4ef3-9f75-baf02b137ffc",
   "metadata": {},
   "outputs": [],
   "source": [
    "lin_range = np.linspace(price_min, price_max, 6)\n",
    "lin_range[0] = 0\n",
    "lin_range[-1] = np.inf\n",
    "lin_range"
   ]
  },
  {
   "cell_type": "markdown",
   "id": "87d38737-5aa5-4766-877e-80022219f983",
   "metadata": {},
   "source": [
    "Zuordnen der Preise zu den 5 Intervallen"
   ]
  },
  {
   "cell_type": "code",
   "execution_count": null,
   "id": "cd4ad373-43ab-402f-bcf7-909c0f0b96de",
   "metadata": {},
   "outputs": [],
   "source": [
    "price_bins = pd.cut(diamonds.price, lin_range)\n",
    "price_bins.head(20)"
   ]
  },
  {
   "cell_type": "markdown",
   "id": "7b196f95-5860-48a2-8136-e762072eb078",
   "metadata": {},
   "source": [
    "Zählen der Preisklassen, sehr ungleich verteilt"
   ]
  },
  {
   "cell_type": "code",
   "execution_count": null,
   "id": "bcd69291-499f-4e17-8642-324c8edfa359",
   "metadata": {},
   "outputs": [],
   "source": [
    "price_bins.value_counts(sort=False), price_bins.count()"
   ]
  },
  {
   "cell_type": "markdown",
   "id": "a471f5ec-80ee-47b9-ba33-7e80edb70435",
   "metadata": {},
   "source": [
    "Versuch mit logarithmischer Teilung"
   ]
  },
  {
   "cell_type": "code",
   "execution_count": null,
   "id": "3d234c69-02b2-41b7-9f39-5dd2961adc24",
   "metadata": {},
   "outputs": [],
   "source": [
    "log_range = np.logspace(np.log10(price_min), np.log10(price_max), 6)\n",
    "log_range[0] = 0\n",
    "log_range[-1] = np.inf\n",
    "log_range"
   ]
  },
  {
   "cell_type": "markdown",
   "id": "db4a964b-030d-48b1-b7bb-6ea0f567771f",
   "metadata": {},
   "source": [
    "Zuordnung der Intervalle (Preisklassen), Ersetzen der Namen durch einfache Labels"
   ]
  },
  {
   "cell_type": "code",
   "execution_count": null,
   "id": "f21b8c64-af8a-40df-a01f-7ff6a2d0b0eb",
   "metadata": {},
   "outputs": [],
   "source": [
    "labels = np.arange(0, len(log_range)-1, dtype=int)\n",
    "price_logbins = pd.cut(diamonds.price, log_range, labels=labels)\n",
    "price_logbins.head(20)"
   ]
  },
  {
   "cell_type": "markdown",
   "id": "7428a105-bf78-425f-9809-c0d2a34c5e49",
   "metadata": {},
   "source": [
    "Anzahl Werte pro Klasse, gleichmäßiger verteilt"
   ]
  },
  {
   "cell_type": "code",
   "execution_count": null,
   "id": "c35150e0-7bf9-446c-8030-4d6a642c7696",
   "metadata": {
    "scrolled": true
   },
   "outputs": [],
   "source": [
    "price_logbins.value_counts(sort=False), price_bins.count()"
   ]
  },
  {
   "cell_type": "markdown",
   "id": "fc789b00-1172-4c17-bead-5dc2e562dcfa",
   "metadata": {},
   "source": [
    "## Binning mit NumPy-Mitteln"
   ]
  },
  {
   "cell_type": "markdown",
   "id": "a1004a84-8a29-43cb-9a4c-917e32e4e0a7",
   "metadata": {},
   "source": [
    "Umwandlung der Preisspalte in NumPy-Array"
   ]
  },
  {
   "cell_type": "code",
   "execution_count": null,
   "id": "c4e76f02-da7a-47d3-a9e1-928466c94d22",
   "metadata": {},
   "outputs": [],
   "source": [
    "prices = diamonds.price.values\n",
    "prices[:20], prices.min(), prices.max()"
   ]
  },
  {
   "cell_type": "markdown",
   "id": "10978240-c363-4b61-93f8-b2c4cf205a5c",
   "metadata": {},
   "source": [
    "Kontrollanzeige der (gewünschten) logarithmischen Intervallgrenzen"
   ]
  },
  {
   "cell_type": "code",
   "execution_count": null,
   "id": "0a25aa09-6c28-4622-a65f-faa639b9ef78",
   "metadata": {},
   "outputs": [],
   "source": [
    "log_range"
   ]
  },
  {
   "cell_type": "markdown",
   "id": "9ccd4502-24f9-4f82-8adf-79a491183deb",
   "metadata": {},
   "source": [
    "In NumPy werden nur die inneren Grenzen benötigt: ersten und letzten Wert verwerfen"
   ]
  },
  {
   "cell_type": "code",
   "execution_count": null,
   "id": "074f1fef-c377-462e-a5bf-278cf4047d0e",
   "metadata": {},
   "outputs": [],
   "source": [
    "log_range_np = log_range[1:-1]\n",
    "log_range_np, log_range_np.shape"
   ]
  },
  {
   "cell_type": "markdown",
   "id": "f80d3b9b-98e8-449c-b5a6-9b93f2648d7a",
   "metadata": {},
   "source": [
    "Zuordnen der Preise zu den Intervallen, Ergebnis ist der Intervall-Index (int-Zahl)"
   ]
  },
  {
   "cell_type": "code",
   "execution_count": null,
   "id": "03089d5d-98e2-4ffe-97e6-dd33ccb39196",
   "metadata": {},
   "outputs": [],
   "source": [
    "price_bins_np = np.digitize(prices, log_range_np)\n",
    "price_bins_np[:20]"
   ]
  },
  {
   "cell_type": "markdown",
   "id": "390f6809-cf8c-4d35-b2a1-18ef0f9aa12e",
   "metadata": {},
   "source": [
    "Kontrolle: Anzahl der Werte pro Intervall mit NumPy-Funktion. Ergebnis stimmt mit Pandas überein."
   ]
  },
  {
   "cell_type": "code",
   "execution_count": null,
   "id": "0b0b84bd-794e-4d9e-aad5-6a2ee56b35dc",
   "metadata": {},
   "outputs": [],
   "source": [
    "np.unique(price_bins_np, return_counts=True)"
   ]
  },
  {
   "cell_type": "markdown",
   "id": "89d96231-8408-452e-8168-096d0d0e1bd3",
   "metadata": {},
   "source": [
    "## Danke für die Aufmerksamkeit"
   ]
  }
 ],
 "metadata": {
  "kernelspec": {
   "display_name": "Python 3 (ipykernel)",
   "language": "python",
   "name": "python3"
  },
  "language_info": {
   "codemirror_mode": {
    "name": "ipython",
    "version": 3
   },
   "file_extension": ".py",
   "mimetype": "text/x-python",
   "name": "python",
   "nbconvert_exporter": "python",
   "pygments_lexer": "ipython3",
   "version": "3.11.5"
  }
 },
 "nbformat": 4,
 "nbformat_minor": 5
}
