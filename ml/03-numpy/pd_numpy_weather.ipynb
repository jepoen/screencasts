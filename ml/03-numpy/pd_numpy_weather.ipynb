{
 "cells": [
  {
   "cell_type": "markdown",
   "id": "7a68f9b6-3ede-4ae3-8554-b7407d52195b",
   "metadata": {},
   "source": [
    "# Pandas → NumPy\n",
    "\n",
    "- Extrahieren der numerischen Werte aus einem DataFrame als *NumPy*-Array\n",
    "- Reorganisation der Daten mittels `reshape()`"
   ]
  },
  {
   "cell_type": "code",
   "execution_count": null,
   "id": "cfd02e5d-97ed-4cba-84d1-8efc8aef515d",
   "metadata": {},
   "outputs": [],
   "source": [
    "import pandas as pd\n",
    "import numpy as np"
   ]
  },
  {
   "cell_type": "markdown",
   "id": "e71be6a7-af1a-49fc-b68e-67f74dcefce3",
   "metadata": {},
   "source": [
    "Einlesen der DataFrames"
   ]
  },
  {
   "cell_type": "code",
   "execution_count": null,
   "id": "1ff4668e-4684-4c5d-ab61-cbad724ea713",
   "metadata": {},
   "outputs": [],
   "source": [
    "def read_addfeature(file_name, feature_name):\n",
    "    df = pd.read_csv(file_name)\n",
    "    df['feature'] = feature_name\n",
    "    print(df.head()) # auskommentieren!\n",
    "    return df"
   ]
  },
  {
   "cell_type": "code",
   "execution_count": null,
   "id": "304bf92b-4cba-495c-ba87-b9498785cac6",
   "metadata": {},
   "outputs": [],
   "source": [
    "df_temp = read_addfeature('temp-all.csv', 'temperature')\n",
    "df_rain = read_addfeature('nied-all.csv', 'rainfall')\n",
    "df_sun = read_addfeature('son-all.csv', 'sunshine')"
   ]
  },
  {
   "cell_type": "code",
   "execution_count": null,
   "id": "fb711e93-dc6c-4397-931b-4901f2de41f9",
   "metadata": {},
   "outputs": [],
   "source": [
    "print(df_temp.info())\n",
    "df_temp"
   ]
  },
  {
   "cell_type": "markdown",
   "id": "388867d5-0a89-4f32-a306-208366923e87",
   "metadata": {},
   "source": [
    "Extrahieren der numerischen Spalten mittels numerischen Index und `iloc`"
   ]
  },
  {
   "cell_type": "code",
   "execution_count": null,
   "id": "83286990-086d-4662-b85f-7dd31b15be23",
   "metadata": {},
   "outputs": [],
   "source": [
    "atemp = df_temp.iloc[:, 1:13].values\n",
    "atemp"
   ]
  },
  {
   "cell_type": "code",
   "execution_count": null,
   "id": "626dd476-2e7c-41dc-b671-89c91d544673",
   "metadata": {},
   "outputs": [],
   "source": [
    "atemp.shape"
   ]
  },
  {
   "cell_type": "markdown",
   "id": "04683630-78a6-42e2-abba-b81f4ae9b330",
   "metadata": {},
   "source": [
    "Extrahieren mittels Liste der Spaltennamen und `loc`"
   ]
  },
  {
   "cell_type": "code",
   "execution_count": null,
   "id": "748174c5-1a7f-4055-8a23-58b834e618e1",
   "metadata": {},
   "outputs": [],
   "source": [
    "col_months = ['{:02}'.format(x) for x in range(1, 13)]\n",
    "print(col_months)\n",
    "arain = df_rain.loc[:, col_months].values\n",
    "arain"
   ]
  },
  {
   "cell_type": "markdown",
   "id": "230f7439-708f-4f23-a224-11f332c36805",
   "metadata": {},
   "source": [
    "Löschen aller nichtnumerischen Spaltennamen mit `drop()`"
   ]
  },
  {
   "cell_type": "code",
   "execution_count": null,
   "id": "9a90fb9c-a75b-4fd2-a106-84732393f9e1",
   "metadata": {},
   "outputs": [],
   "source": [
    "asun = df_sun.drop(['year', 'feature'], axis=1).values\n",
    "asun"
   ]
  },
  {
   "cell_type": "markdown",
   "id": "2092102b-c309-4e1e-9b0e-0053c03c5eaa",
   "metadata": {},
   "source": [
    "Kontrolle der Matrixdimensionen"
   ]
  },
  {
   "cell_type": "code",
   "execution_count": null,
   "id": "41454adc-5ef1-4df4-88b3-1bff74d251dd",
   "metadata": {},
   "outputs": [],
   "source": [
    "atemp.shape, arain.shape, asun.shape"
   ]
  },
  {
   "cell_type": "markdown",
   "id": "50bc59de-31ea-4965-88eb-f7b2fa2ad51f",
   "metadata": {},
   "source": [
    "Umwandlung in Vektoren, eine Achse kann berechnet und durch `-1` ersetzt werden."
   ]
  },
  {
   "cell_type": "code",
   "execution_count": null,
   "id": "8610b4bd-26e6-4b40-89dc-dace3b959c4b",
   "metadata": {},
   "outputs": [],
   "source": [
    "vtemp = atemp.reshape(-1)\n",
    "vrain = arain.reshape(-1)\n",
    "vsun = asun.reshape(-1)\n",
    "vtemp.shape, vrain.shape, vsun.shape"
   ]
  },
  {
   "cell_type": "markdown",
   "id": "278dbb59-9c2f-474e-a0f4-a4d6c1daa00f",
   "metadata": {},
   "source": [
    "Vertikal stapeln"
   ]
  },
  {
   "cell_type": "code",
   "execution_count": null,
   "id": "f7bbba92-8e44-42ac-9ba8-e1e1d7629d97",
   "metadata": {},
   "outputs": [],
   "source": [
    "np.vstack([vtemp, vrain]).shape"
   ]
  },
  {
   "cell_type": "markdown",
   "id": "44395f41-4794-4414-8e54-487d1416439e",
   "metadata": {},
   "source": [
    "Horizontal stapeln gibt einen langen Vektor → Vektor wird als Zeilenvektor interpretiert!"
   ]
  },
  {
   "cell_type": "code",
   "execution_count": null,
   "id": "fd06a03e-bdec-49b9-84d6-b351328fe59e",
   "metadata": {},
   "outputs": [],
   "source": [
    "np.hstack([vtemp, vrain]).shape"
   ]
  },
  {
   "cell_type": "markdown",
   "id": "261851a0-a611-4504-aec1-5b39105a17f9",
   "metadata": {},
   "source": [
    "Transponieren der Matrix"
   ]
  },
  {
   "cell_type": "code",
   "execution_count": null,
   "id": "5194e328-cb04-4c71-9bd2-b48c6cbcb76d",
   "metadata": {},
   "outputs": [],
   "source": [
    "data_v = np.vstack([vtemp, vrain])\n",
    "data_v.T\n",
    "#data_v.T.shape"
   ]
  },
  {
   "cell_type": "markdown",
   "id": "1ab77d2d-f11a-4506-859a-1ebddde388e6",
   "metadata": {},
   "source": [
    "Direktes horizontales Stapeln nach Umwandlung der Vektoren in einspaltige Matrizen."
   ]
  },
  {
   "cell_type": "code",
   "execution_count": null,
   "id": "282710b8-c800-47ee-8818-806245521348",
   "metadata": {},
   "outputs": [],
   "source": [
    "data_h = np.hstack([vtemp.reshape(-1, 1), vrain.reshape(-1,1)])\n",
    "data_h\n",
    "#data_h.shape"
   ]
  },
  {
   "cell_type": "markdown",
   "id": "b8e2f85f-4175-436b-94d8-9bbb72b668cb",
   "metadata": {},
   "source": [
    "Auffüllen der fehlenden `sun`-Werte durch `NaN` (*not a number*)"
   ]
  },
  {
   "cell_type": "code",
   "execution_count": null,
   "id": "22408d58-b773-49e2-bfb1-a53c86177d7b",
   "metadata": {},
   "outputs": [],
   "source": [
    "n_missing_sun = vtemp.shape[0] - vsun.shape[0]\n",
    "n_missing_sun\n",
    "v_missing_sun = np.repeat(np.NaN, n_missing_sun)\n",
    "v_missing_sun.shape\n",
    "vsun_complete = np.hstack([v_missing_sun, vsun])\n",
    "vsun_complete.shape"
   ]
  },
  {
   "cell_type": "markdown",
   "id": "b5dbdc2a-bbff-49c2-b529-8fc262625851",
   "metadata": {},
   "source": [
    "Nebeneinanderstapeln aller drei Features (Zeilen: Monate)"
   ]
  },
  {
   "cell_type": "code",
   "execution_count": null,
   "id": "7d85c196-3de9-4f26-a46e-043768d72a42",
   "metadata": {},
   "outputs": [],
   "source": [
    "data_h = np.hstack([vtemp.reshape(-1, 1), vrain.reshape(-1,1), vsun_complete.reshape(-1,1)])\n",
    "data_h\n",
    "#data_h.shape"
   ]
  },
  {
   "cell_type": "markdown",
   "id": "773d928c-81e3-4067-a4cb-f0ec775ba334",
   "metadata": {},
   "source": [
    "Rückwandlung in DataFrame"
   ]
  },
  {
   "cell_type": "code",
   "execution_count": null,
   "id": "c9547cd2-8b35-40d6-803a-13b2bbc6874c",
   "metadata": {},
   "outputs": [],
   "source": [
    "df = pd.DataFrame(data_h)\n",
    "df.columns = ['temp', 'rain', 'sun']\n",
    "df"
   ]
  },
  {
   "cell_type": "markdown",
   "id": "cb0669d8-d865-4b30-8d40-42a91ea87b2d",
   "metadata": {},
   "source": [
    "Erzeugen der Monatsspalte.\n",
    "\n",
    "Variante 1: Aus Stringliste\n",
    "\n",
    "Variante 2: Aus Datumsvektor"
   ]
  },
  {
   "cell_type": "code",
   "execution_count": null,
   "id": "db790b3e-6147-424a-9d05-e75a73c12853",
   "metadata": {},
   "outputs": [],
   "source": [
    "s_months = ['{:04}-{:02}'.format(y, m) for y in range(1882, 2024) for m in range(1, 13)]\n",
    "len(s_months)\n",
    "periods = pd.PeriodIndex(s_months, freq='M')\n",
    "periods"
   ]
  },
  {
   "cell_type": "code",
   "execution_count": null,
   "id": "29baa2a1-e0aa-45db-9bbf-d9d614fc960e",
   "metadata": {},
   "outputs": [],
   "source": [
    "month_dates = pd.date_range(start='1882-01-01', end='2023-12-31', freq='M')\n",
    "#month_dates\n",
    "month_dates.to_period()"
   ]
  },
  {
   "cell_type": "markdown",
   "id": "7fab72fb-295c-4600-ae7e-e7fc4f5499a5",
   "metadata": {},
   "source": [
    "Hinzufügen als Index und anschließende Umwandlung in Spalte (`reset_index()`) sorgt dafür, dass der Monat\n",
    "die erste Spalte bildet."
   ]
  },
  {
   "cell_type": "code",
   "execution_count": null,
   "id": "f251d826-8a13-4831-8db7-e5a595bfde7d",
   "metadata": {},
   "outputs": [],
   "source": [
    "df1 = df.set_index(periods)\n",
    "df1"
   ]
  },
  {
   "cell_type": "code",
   "execution_count": null,
   "id": "a3ca98e6-6114-4921-96b4-cbfe55007625",
   "metadata": {
    "scrolled": true
   },
   "outputs": [],
   "source": [
    "df1.reset_index(names='period')"
   ]
  },
  {
   "cell_type": "markdown",
   "id": "057f4e5b-46a2-4306-950d-ec92f89c83df",
   "metadata": {},
   "source": [
    "## Danke für die Aufmerksamkeit!"
   ]
  }
 ],
 "metadata": {
  "kernelspec": {
   "display_name": "Python 3 (ipykernel)",
   "language": "python",
   "name": "python3"
  },
  "language_info": {
   "codemirror_mode": {
    "name": "ipython",
    "version": 3
   },
   "file_extension": ".py",
   "mimetype": "text/x-python",
   "name": "python",
   "nbconvert_exporter": "python",
   "pygments_lexer": "ipython3",
   "version": "3.11.5"
  }
 },
 "nbformat": 4,
 "nbformat_minor": 5
}
