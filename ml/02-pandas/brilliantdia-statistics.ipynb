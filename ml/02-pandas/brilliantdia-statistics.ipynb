{
 "cells": [
  {
   "cell_type": "markdown",
   "id": "excellent-spank",
   "metadata": {},
   "source": [
    "# Brilliant Diamonds – visuelle Datenanalyse"
   ]
  },
  {
   "cell_type": "code",
   "execution_count": null,
   "id": "broadband-armor",
   "metadata": {},
   "outputs": [],
   "source": [
    "import pandas as pd\n",
    "import numpy as np"
   ]
  },
  {
   "cell_type": "markdown",
   "id": "greater-driving",
   "metadata": {},
   "source": [
    "Einlesen des kleinen Datensatzes"
   ]
  },
  {
   "cell_type": "code",
   "execution_count": null,
   "id": "clean-cattle",
   "metadata": {},
   "outputs": [],
   "source": [
    "dia = pd.read_csv('brilliantdia-train.csv')\n",
    "dia.info()"
   ]
  },
  {
   "cell_type": "markdown",
   "id": "optimum-syracuse",
   "metadata": {},
   "source": [
    "Wiederholung Häufigkeiten. Die Klassen sind nicht (mehr) sortiert."
   ]
  },
  {
   "cell_type": "code",
   "execution_count": null,
   "id": "virgin-grill",
   "metadata": {},
   "outputs": [],
   "source": [
    "dia.icol.value_counts(sort=False)"
   ]
  },
  {
   "cell_type": "markdown",
   "id": "superb-lesbian",
   "metadata": {},
   "source": [
    "Boxplot aller Größen. Der Preis verhindert eine sinnvolle Anzeige."
   ]
  },
  {
   "cell_type": "code",
   "execution_count": null,
   "id": "operating-license",
   "metadata": {},
   "outputs": [],
   "source": [
    "dia.boxplot()"
   ]
  },
  {
   "cell_type": "markdown",
   "id": "innovative-hebrew",
   "metadata": {},
   "source": [
    "Dichtediagramm des Preises. Konzentration bei kleinen Werten."
   ]
  },
  {
   "cell_type": "code",
   "execution_count": null,
   "id": "fifteen-update",
   "metadata": {},
   "outputs": [],
   "source": [
    "ax = dia.price.plot.density(subplots=True)"
   ]
  },
  {
   "cell_type": "markdown",
   "id": "going-viking",
   "metadata": {},
   "source": [
    "Histrogramm einer kategorialen Größe (möglich durch numerische Label). Die Lücken entstehen durch die (fehlerhafte) Behandlung als stetige Größe."
   ]
  },
  {
   "cell_type": "code",
   "execution_count": null,
   "id": "verified-opera",
   "metadata": {},
   "outputs": [],
   "source": [
    "dia.icol.plot.hist()"
   ]
  },
  {
   "cell_type": "markdown",
   "id": "prerequisite-impossible",
   "metadata": {},
   "source": [
    "Besser: Werte zählen und Barplot verwenden"
   ]
  },
  {
   "cell_type": "code",
   "execution_count": null,
   "id": "aggregate-contrary",
   "metadata": {},
   "outputs": [],
   "source": [
    "cv = dia.icol.value_counts()\n",
    "cv.plot(kind='bar')"
   ]
  },
  {
   "cell_type": "markdown",
   "id": "military-cancellation",
   "metadata": {},
   "source": [
    "Preisspalte abschneiden."
   ]
  },
  {
   "cell_type": "code",
   "execution_count": null,
   "id": "stuck-accused",
   "metadata": {},
   "outputs": [],
   "source": [
    "price = dia['price']\n",
    "data = dia.drop('price', axis=1)"
   ]
  },
  {
   "cell_type": "markdown",
   "id": "reserved-police",
   "metadata": {},
   "source": [
    "Dichtediagramm für alle Features. Für kategoriale Größen wieder Verfälschung durch Betrachtung als stetige Größen."
   ]
  },
  {
   "cell_type": "code",
   "execution_count": null,
   "id": "pregnant-hormone",
   "metadata": {},
   "outputs": [],
   "source": [
    "ax = data.plot.density(subplots=True)"
   ]
  },
  {
   "cell_type": "markdown",
   "id": "curious-inventory",
   "metadata": {},
   "source": [
    "Nochmal Boxplot ohne Preisspalte. Graphische Anzeige der Quantile."
   ]
  },
  {
   "cell_type": "code",
   "execution_count": null,
   "id": "mineral-tactics",
   "metadata": {},
   "outputs": [],
   "source": [
    "ax = data.boxplot()"
   ]
  },
  {
   "cell_type": "markdown",
   "id": "heavy-inspector",
   "metadata": {},
   "source": [
    "Logarithmieren des Preises und Betrachten der neuen Dichte."
   ]
  },
  {
   "cell_type": "code",
   "execution_count": null,
   "id": "duplicate-senegal",
   "metadata": {},
   "outputs": [],
   "source": [
    "logprice = np.log(price)\n",
    "logprice.plot.density()\n",
    "#data['logprice'] = logprice\n",
    "#data = data.drop('logprice', axis=1)"
   ]
  },
  {
   "cell_type": "markdown",
   "id": "manual-vision",
   "metadata": {},
   "source": [
    "Nochmal Dichte aller Features incl. logarithmischer Preis, danach wieder aus Data Frame entfernen.\n",
    "\n",
    "(Nur zur Demonstration, Aussagekraft ist hier eher gering.)"
   ]
  },
  {
   "cell_type": "code",
   "execution_count": null,
   "id": "union-bunny",
   "metadata": {},
   "outputs": [],
   "source": [
    "data['logprice'] = logprice\n",
    "ax = data.plot.density(subplots=True)\n",
    "data = data.drop('logprice', axis=1)"
   ]
  },
  {
   "cell_type": "markdown",
   "id": "ceramic-terrain",
   "metadata": {},
   "source": [
    "Scattermatrix, logarithmischer Preis als Farbe. Farbcluster sind gut erkennbar, Features haben also Einfluss auf Zielgröße."
   ]
  },
  {
   "cell_type": "code",
   "execution_count": null,
   "id": "rural-telling",
   "metadata": {},
   "outputs": [],
   "source": [
    "ax = pd.plotting.scatter_matrix(data, c=logprice, cmap='hot', figsize=(20, 20))"
   ]
  },
  {
   "cell_type": "markdown",
   "id": "solar-least",
   "metadata": {},
   "source": [
    "Umwandeln der Preise in Kategorien: < 1000, 1000…10T, 10T…100T, > 100T"
   ]
  },
  {
   "cell_type": "code",
   "execution_count": null,
   "id": "agreed-fortune",
   "metadata": {},
   "outputs": [],
   "source": [
    "boundaries = [0, 1e3, 1e4, 1e5, np.inf]\n",
    "labels = range(len(boundaries)-1)\n",
    "labprice = pd.cut(price, bins=boundaries, labels=labels)\n",
    "#print(price.head(), labprice.head())\n",
    "labprice.value_counts(sort=False)"
   ]
  },
  {
   "cell_type": "markdown",
   "id": "prostate-memory",
   "metadata": {},
   "source": [
    "Scatterplot mit Preiskategorien (nur noch 4 Farben)"
   ]
  },
  {
   "cell_type": "code",
   "execution_count": null,
   "id": "cubic-remark",
   "metadata": {},
   "outputs": [],
   "source": [
    "ax = pd.plotting.scatter_matrix(data, c=labprice, cmap='hot', figsize=(20, 20))"
   ]
  },
  {
   "cell_type": "markdown",
   "id": "inclusive-subscriber",
   "metadata": {},
   "source": [
    "Korrelationsmatrix"
   ]
  },
  {
   "cell_type": "code",
   "execution_count": null,
   "id": "administrative-absorption",
   "metadata": {},
   "outputs": [],
   "source": [
    "data['logprice'] = logprice\n",
    "corr = data.corr()\n",
    "corr"
   ]
  },
  {
   "cell_type": "markdown",
   "id": "still-furniture",
   "metadata": {},
   "source": [
    "Korrelationen der Features zum (logar.) Preis"
   ]
  },
  {
   "cell_type": "code",
   "execution_count": null,
   "id": "federal-perth",
   "metadata": {},
   "outputs": [],
   "source": [
    "corr['logprice'].sort_values(ascending=False)"
   ]
  },
  {
   "cell_type": "markdown",
   "id": "established-regulation",
   "metadata": {},
   "source": [
    "Korrelation der Features zum Typ (künstlich oder natürlich)"
   ]
  },
  {
   "cell_type": "code",
   "execution_count": null,
   "id": "destroyed-pricing",
   "metadata": {},
   "outputs": [],
   "source": [
    "corr['ityp'].sort_values(ascending=False)"
   ]
  }
 ],
 "metadata": {
  "kernelspec": {
   "display_name": "Python 3",
   "language": "python",
   "name": "python3"
  },
  "language_info": {
   "codemirror_mode": {
    "name": "ipython",
    "version": 3
   },
   "file_extension": ".py",
   "mimetype": "text/x-python",
   "name": "python",
   "nbconvert_exporter": "python",
   "pygments_lexer": "ipython3",
   "version": "3.7.9"
  }
 },
 "nbformat": 4,
 "nbformat_minor": 5
}
