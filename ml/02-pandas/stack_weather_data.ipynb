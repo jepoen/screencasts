{
 "cells": [
  {
   "cell_type": "markdown",
   "id": "4f8da769-46b3-430e-b1d0-92129daa4b19",
   "metadata": {},
   "source": [
    "# Stack und Unstack\n",
    "\n",
    "- Funktionsweise\n",
    "- Erzeugen und Rücksetzen eines Multiindex\n",
    "- Datentyp für Perioden (fortlaufende Monate)\n",
    "\n",
    "Datenquelle: https://www.dwd.de/DE/leistungen/zeitreihen/zeitreihen.html"
   ]
  },
  {
   "cell_type": "code",
   "execution_count": null,
   "id": "af793ab2-b433-439e-b314-101d3723d41a",
   "metadata": {},
   "outputs": [],
   "source": [
    "import pandas as pd\n",
    "import numpy as np"
   ]
  },
  {
   "cell_type": "markdown",
   "id": "00bb830f-9213-4438-bfcb-70d7bf7e7788",
   "metadata": {},
   "source": [
    "Test mit einem DataFrame"
   ]
  },
  {
   "cell_type": "code",
   "execution_count": null,
   "id": "c271fbcd-4936-4a80-8c68-4f52a382d754",
   "metadata": {
    "scrolled": true
   },
   "outputs": [],
   "source": [
    "df = pd.read_csv('temp-all.csv')\n",
    "df"
   ]
  },
  {
   "cell_type": "markdown",
   "id": "bc36c0cb-bbda-4722-b97a-83dbafeb8292",
   "metadata": {},
   "source": [
    "Aufruf von `stack()` stapelt alle Spalten, auch das Jahr"
   ]
  },
  {
   "cell_type": "code",
   "execution_count": null,
   "id": "2ee4dfad-85fe-4fc7-9375-889ca882cd49",
   "metadata": {},
   "outputs": [],
   "source": [
    "x = df.stack()\n",
    "x"
   ]
  },
  {
   "cell_type": "code",
   "execution_count": null,
   "id": "556a4aad-9ae6-4885-be84-caa6a1ed8759",
   "metadata": {},
   "outputs": [],
   "source": [
    "x.info()"
   ]
  },
  {
   "cell_type": "markdown",
   "id": "5dbe9a86-c622-4fea-8426-1681a56a86cb",
   "metadata": {},
   "source": [
    "Spalten, die nicht gestapelt werden sollen, nehmen wir in den Index auf"
   ]
  },
  {
   "cell_type": "code",
   "execution_count": null,
   "id": "efedbf0f-aa8f-40e3-bea5-ce172f6cc821",
   "metadata": {},
   "outputs": [],
   "source": [
    "x2 = df.set_index('year')\n",
    "#df.info()\n",
    "x2.info()"
   ]
  },
  {
   "cell_type": "code",
   "execution_count": null,
   "id": "2cdcf2a0-42b5-48ad-a4a3-236be8634092",
   "metadata": {},
   "outputs": [],
   "source": [
    "x3 = x2.stack()\n",
    "x3.info()"
   ]
  },
  {
   "cell_type": "markdown",
   "id": "2afa783e-836d-4713-bc60-b98e791f524c",
   "metadata": {},
   "source": [
    "Rücksetzen des Index, wird wieder normale Spalte.\n",
    "\n",
    "Meist ist ein Umbenennen der Spalten sinnvoll."
   ]
  },
  {
   "cell_type": "code",
   "execution_count": null,
   "id": "afbddfab-0c94-439a-b63f-f08a3839d341",
   "metadata": {},
   "outputs": [],
   "source": [
    "x4 = x3.reset_index()\n",
    "x4.columns = ['year', 'month', 'val']\n",
    "x4"
   ]
  },
  {
   "cell_type": "markdown",
   "id": "3a7cf6c7-1b20-4681-9653-1dcdfc1626f4",
   "metadata": {},
   "source": [
    "Hilfsfunktion zum Einlesen der 3 Data Frames, Hinzufügen einer Spalte `feature`, um die verschiedenen Messwerte unterscheiden zu können."
   ]
  },
  {
   "cell_type": "code",
   "execution_count": null,
   "id": "7b7df824-b579-4821-bd2a-e248aaceadcc",
   "metadata": {},
   "outputs": [],
   "source": [
    "def read_addfeature(file_name, feature_name):\n",
    "    df = pd.read_csv(file_name)\n",
    "    df['feature'] = feature_name\n",
    "    print(df.head()) # auskommentieren!\n",
    "    return df"
   ]
  },
  {
   "cell_type": "markdown",
   "id": "7bcb03ea-7d4d-4a74-8d8a-a9d81f675bcc",
   "metadata": {},
   "source": [
    "Einlesen der 3 Data Frames"
   ]
  },
  {
   "cell_type": "code",
   "execution_count": null,
   "id": "76e82829-a076-4944-8b68-f97c7f556462",
   "metadata": {},
   "outputs": [],
   "source": [
    "df_temp = read_addfeature('temp-all.csv', 'temperature')\n",
    "df_rain = read_addfeature('nied-all.csv', 'rainfall')\n",
    "df_sun = read_addfeature('son-all.csv', 'sunshine')"
   ]
  },
  {
   "cell_type": "markdown",
   "id": "a4fe2876-82ce-4bb2-894a-35dd752b3eb1",
   "metadata": {},
   "source": [
    "Vertikales Zusammenfügen der Data Frames. Spaltenreihenfolge und -namen sind identisch."
   ]
  },
  {
   "cell_type": "code",
   "execution_count": null,
   "id": "c1ce4b40-2e73-4814-8eea-f93a0b8f5b5a",
   "metadata": {},
   "outputs": [],
   "source": [
    "data = pd.concat([df_temp, df_rain, df_sun])\n",
    "data"
   ]
  },
  {
   "cell_type": "markdown",
   "id": "9dbedc33-d4fd-4d67-8a7e-5d510487ada2",
   "metadata": {},
   "source": [
    "Bilden des Multiindex. Feature und Jahr sollen nicht gestapelt werden.\n",
    "\n",
    "Entscheidung über Reihenfolge ist zu treffen:\n",
    "- Erst das Feature, dann zu diesem alle Jahre zuordnen\n",
    "- Erst das Jahr, zu diesem die 3 Features zuordnen"
   ]
  },
  {
   "cell_type": "code",
   "execution_count": null,
   "id": "1ff6f229-d28d-4c65-887a-cc63dceb9f91",
   "metadata": {
    "scrolled": true
   },
   "outputs": [],
   "source": [
    "data_idx = data.set_index(['feature', 'year'])\n",
    "print(data_idx.info())\n",
    "data_idx"
   ]
  },
  {
   "cell_type": "markdown",
   "id": "2144a07c-da54-4755-9920-8f5d1a0e3632",
   "metadata": {},
   "source": [
    "Stapeln der Werte. Alle Messwerte stehen nun in einer Spalte"
   ]
  },
  {
   "cell_type": "code",
   "execution_count": null,
   "id": "305e5624-84b9-4c6c-b552-5f798f2c0076",
   "metadata": {},
   "outputs": [],
   "source": [
    "data_stacked = data_idx.stack()\n",
    "data_stacked.head(20)"
   ]
  },
  {
   "cell_type": "markdown",
   "id": "487c4fc7-2e38-4451-870f-80091cc3426f",
   "metadata": {},
   "source": [
    "Index wird zurückgesetzt, Vergabe sinnvoller Spaltennamen"
   ]
  },
  {
   "cell_type": "code",
   "execution_count": null,
   "id": "280e75b7-4f5a-448f-a8f4-81aef7e79179",
   "metadata": {},
   "outputs": [],
   "source": [
    "data_flat = data_stacked.reset_index()\n",
    "data_flat.columns = ['feature', 'year', 'month', 'value']\n",
    "data_flat"
   ]
  },
  {
   "cell_type": "markdown",
   "id": "585a30a1-256b-45d4-a959-2a0087577a97",
   "metadata": {},
   "source": [
    "Die 3 Ausprägungen des Features (Temp., Niederschlag, Sonne) sollen jeweils eine eigene Spalte bilden.\n",
    "\n",
    "Im Multiindex muss `feature` an letzter Stelle stehen. Für die korrekte zeitliche Reihenfolge muss im Index zuerst das Jahr, dann der Monat kommen."
   ]
  },
  {
   "cell_type": "code",
   "execution_count": null,
   "id": "5de38d7e-bb90-4c0f-89aa-9c3e6a6f6d95",
   "metadata": {},
   "outputs": [],
   "source": [
    "data_for_unstack = data_flat.set_index(['year', 'month', 'feature'])\n",
    "data_for_unstack"
   ]
  },
  {
   "cell_type": "markdown",
   "id": "1a80eeb4-d11d-4ddb-88fb-677cc2f9a06d",
   "metadata": {},
   "source": [
    "»Entstapeln« der Feature-Ausprägungen zu eigenen Spalten"
   ]
  },
  {
   "cell_type": "code",
   "execution_count": null,
   "id": "58324333-8ed7-4815-8edd-eb20559ac4e6",
   "metadata": {},
   "outputs": [],
   "source": [
    "data_unstacked = data_for_unstack.unstack()\n",
    "data_unstacked"
   ]
  },
  {
   "cell_type": "markdown",
   "id": "48c14a30-d385-42ab-8f03-0763ddc60c24",
   "metadata": {},
   "source": [
    "Rücksetzen des Multiindex, Vergabe sinnvoller Spaltennamen"
   ]
  },
  {
   "cell_type": "code",
   "execution_count": null,
   "id": "5a0f29d8-30d9-4785-995f-7fb5d75ac13e",
   "metadata": {},
   "outputs": [],
   "source": [
    "observations = data_unstacked.reset_index()\n",
    "observations.columns = ['year', 'month', 'rainfall', 'sunshine', 'temperature']\n",
    "observations"
   ]
  },
  {
   "cell_type": "markdown",
   "id": "85b7e7fe-0a53-4098-8a79-2c7bfac8f026",
   "metadata": {},
   "source": [
    "Kontrolle der Struktur des Data Frame, Datentyp für Monat ist ungünstig, besser `int`"
   ]
  },
  {
   "cell_type": "code",
   "execution_count": null,
   "id": "618796d4-c2ec-4140-893b-6ace8bb61482",
   "metadata": {},
   "outputs": [],
   "source": [
    "observations.info()"
   ]
  },
  {
   "cell_type": "markdown",
   "id": "f227a970-c2c0-4e44-97ee-6616bbc69e4a",
   "metadata": {},
   "source": [
    "Typumwandlung für Monat"
   ]
  },
  {
   "cell_type": "code",
   "execution_count": null,
   "id": "99e2f7c0-ea56-4736-867f-be7ae207a64c",
   "metadata": {},
   "outputs": [],
   "source": [
    "observations['month'] = observations['month'].astype(int)\n",
    "print(observations.info())\n",
    "observations"
   ]
  },
  {
   "cell_type": "markdown",
   "id": "f3823854-5f22-4ae3-b70f-bb4406ccecf9",
   "metadata": {},
   "source": [
    "Erzeugen von Jahr-Monat-Strings aus den Spalten `year` und `month`\n",
    "\n",
    "- Achse muss angegeben werden\n",
    "- Typ wird nicht korrekt erkannt, Umwandlung mit `int()` erzwingen"
   ]
  },
  {
   "cell_type": "code",
   "execution_count": null,
   "id": "9e94e8a1-3d5e-4ce9-862f-7bbc98ab8ce3",
   "metadata": {},
   "outputs": [],
   "source": [
    "y_m = observations.apply(lambda row: '{:04}-{:02}'.format(int(row['year']), int(row['month'])), axis=1)\n",
    "y_m                     "
   ]
  },
  {
   "cell_type": "markdown",
   "id": "99354d88-07aa-4ddc-a6f6-3381edfa4cee",
   "metadata": {},
   "source": [
    "Erzeugen einer Spalte vom Typ `Period` für Zeitreihenanalysen"
   ]
  },
  {
   "cell_type": "code",
   "execution_count": null,
   "id": "764c073e-df83-4954-b9e9-23b168b7bcaf",
   "metadata": {},
   "outputs": [],
   "source": [
    "observations['period'] = pd.PeriodIndex(y_m, freq='M')\n",
    "print(observations.info())\n",
    "observations"
   ]
  },
  {
   "cell_type": "markdown",
   "id": "a5db2043-b04c-49e9-bdbc-b2a6173a4cbb",
   "metadata": {},
   "source": [
    "Der `Period`-Typ kann einfach in einen String umgewandelt werden."
   ]
  },
  {
   "cell_type": "code",
   "execution_count": null,
   "id": "2214872d-513a-4bec-ad1b-a9ccf52d0414",
   "metadata": {},
   "outputs": [],
   "source": [
    "observations['period'].astype(str)"
   ]
  },
  {
   "cell_type": "markdown",
   "id": "ced5487b-3f71-44f8-ba06-4d5de3954a6c",
   "metadata": {},
   "source": [
    "Entfernen von Zeilen (`axis=0`) bzw. Spalten (`axis=1`), die fehlende Werte enthalten."
   ]
  },
  {
   "cell_type": "code",
   "execution_count": null,
   "id": "cb40dc90-766a-4762-bb32-04a667001e87",
   "metadata": {},
   "outputs": [],
   "source": [
    "observations.dropna(axis=0)"
   ]
  },
  {
   "cell_type": "code",
   "execution_count": null,
   "id": "b994c99d-6514-41e5-87d5-40e5f60d260c",
   "metadata": {},
   "outputs": [],
   "source": [
    "observations.dropna(axis=1)"
   ]
  },
  {
   "cell_type": "markdown",
   "id": "1532aca7-800b-47e5-8cf1-91f9c3b5dbcc",
   "metadata": {},
   "source": [
    "Umsortieren der Spalten mit Hilfe von `set_index()` und `reset_index()`"
   ]
  },
  {
   "cell_type": "code",
   "execution_count": null,
   "id": "8d95c3a5-5b06-4a1b-a7e6-5fd5a1f8fc0d",
   "metadata": {
    "scrolled": true
   },
   "outputs": [],
   "source": [
    "obs_ordered = observations.set_index(['period', 'year', 'month']).reset_index()\n",
    "obs_ordered"
   ]
  },
  {
   "cell_type": "markdown",
   "id": "687a6621-8a0f-4648-871c-5c94ac7f9502",
   "metadata": {},
   "source": [
    "Danke für die Aufmerksamkeit!"
   ]
  }
 ],
 "metadata": {
  "kernelspec": {
   "display_name": "Python 3 (ipykernel)",
   "language": "python",
   "name": "python3"
  },
  "language_info": {
   "codemirror_mode": {
    "name": "ipython",
    "version": 3
   },
   "file_extension": ".py",
   "mimetype": "text/x-python",
   "name": "python",
   "nbconvert_exporter": "python",
   "pygments_lexer": "ipython3",
   "version": "3.11.5"
  }
 },
 "nbformat": 4,
 "nbformat_minor": 5
}
