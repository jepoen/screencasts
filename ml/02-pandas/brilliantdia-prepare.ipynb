{
 "cells": [
  {
   "cell_type": "markdown",
   "id": "significant-arnold",
   "metadata": {},
   "source": [
    "# Brilliant Diamonds – Datenaufbereitung"
   ]
  },
  {
   "cell_type": "code",
   "execution_count": null,
   "id": "engaged-adjustment",
   "metadata": {},
   "outputs": [],
   "source": [
    "import pandas as pd\n",
    "import random"
   ]
  },
  {
   "cell_type": "markdown",
   "id": "offensive-routine",
   "metadata": {},
   "source": [
    "Daten einlesen und prüfen"
   ]
  },
  {
   "cell_type": "code",
   "execution_count": null,
   "id": "respiratory-rental",
   "metadata": {},
   "outputs": [],
   "source": [
    "dia = pd.read_csv('diamonds_dataset.csv')\n",
    "dia.info()"
   ]
  },
  {
   "cell_type": "markdown",
   "id": "fatal-cartoon",
   "metadata": {},
   "source": [
    "Erste Zeilen anzeigen"
   ]
  },
  {
   "cell_type": "code",
   "execution_count": null,
   "id": "ordinary-library",
   "metadata": {},
   "outputs": [],
   "source": [
    "dia.head()"
   ]
  },
  {
   "cell_type": "markdown",
   "id": "soviet-modeling",
   "metadata": {},
   "source": [
    "Nichtbenötigte Spalten entfernen."
   ]
  },
  {
   "cell_type": "code",
   "execution_count": null,
   "id": "demanding-shakespeare",
   "metadata": {},
   "outputs": [],
   "source": [
    "diaDrop = dia.drop(['id', 'url', 'date_fetched'], axis=1)\n",
    "diaDrop.head(10)"
   ]
  },
  {
   "cell_type": "markdown",
   "id": "beginning-promotion",
   "metadata": {},
   "source": [
    "Einfache Statistik der metrischen Features"
   ]
  },
  {
   "cell_type": "code",
   "execution_count": null,
   "id": "chief-receipt",
   "metadata": {},
   "outputs": [],
   "source": [
    "diaDrop.describe()"
   ]
  },
  {
   "cell_type": "markdown",
   "id": "national-cookie",
   "metadata": {},
   "source": [
    "Einfache Statistik der kategorialen Features."
   ]
  },
  {
   "cell_type": "code",
   "execution_count": null,
   "id": "connected-passing",
   "metadata": {},
   "outputs": [],
   "source": [
    "diaDrop.describe(include='object')"
   ]
  },
  {
   "cell_type": "markdown",
   "id": "fourth-consumer",
   "metadata": {},
   "source": [
    "Zählen aller Kategorien"
   ]
  },
  {
   "cell_type": "code",
   "execution_count": null,
   "id": "sufficient-round",
   "metadata": {},
   "outputs": [],
   "source": [
    "for feature in ('shape', 'cut', 'color', 'clarity', 'report', 'type'):\n",
    "    print(feature)\n",
    "    print(diaDrop[feature].value_counts())"
   ]
  },
  {
   "cell_type": "markdown",
   "id": "short-heavy",
   "metadata": {},
   "source": [
    "### Bedeutung der Kategorien\n",
    "\n",
    "Clarity: https://en.wikipedia.org/wiki/Diamond_clarity:\n",
    " \n",
    "(best) FL IF VVS1 VVS2 VS1 VS2 SI1 SI2 I1 I2 I3 (worse)\n",
    " \n",
    "Color: https://en.wikipedia.org/wiki/Diamond_color\n",
    " \n",
    "(best) D ... J (worse)\n",
    "\n",
    "Cut: ebenfalls ordinal, Namen sind sprechend\n",
    "\n",
    "Shape, Report, Typ: kategorial, keine Ordnung"
   ]
  },
  {
   "cell_type": "markdown",
   "id": "closed-commonwealth",
   "metadata": {},
   "source": [
    "Zuordnen von Zahlen zu jeder Kategorie gemäßig Index der jeweiligen Kategorieliste."
   ]
  },
  {
   "cell_type": "code",
   "execution_count": null,
   "id": "canadian-school",
   "metadata": {},
   "outputs": [],
   "source": [
    "def getMap(values):\n",
    "    res = dict()\n",
    "    for i, key in enumerate(values):\n",
    "        res[key] = i\n",
    "    return res"
   ]
  },
  {
   "cell_type": "code",
   "execution_count": null,
   "id": "responsible-mason",
   "metadata": {},
   "outputs": [],
   "source": [
    "lColor = [x for x in 'JIHGFED']\n",
    "lCuts = ['Fair', 'Good', 'Very Good', 'Ideal', 'Super Ideal']\n",
    "lClarities = ['SI2', 'SI1', 'VS2', 'VS1', 'VVS2', 'VVS1', 'IF', 'FL']\n",
    "lShapes = diaDrop['shape'].unique()\n",
    "lReports = diaDrop['report'].unique()\n",
    "lTypes = diaDrop['type'].unique()\n",
    "mCol = getMap(lColor)\n",
    "mCut = getMap(lCuts)\n",
    "mClar = getMap(lClarities)\n",
    "mShape = getMap(lShapes)\n",
    "mRep = getMap(lReports)\n",
    "mTyp = getMap(lTypes)"
   ]
  },
  {
   "cell_type": "markdown",
   "id": "spanish-mistress",
   "metadata": {},
   "source": [
    "Mappen der Zahlen auf die Kategorien."
   ]
  },
  {
   "cell_type": "code",
   "execution_count": null,
   "id": "varying-beach",
   "metadata": {},
   "outputs": [],
   "source": [
    "diaDrop['icol'] = diaDrop.color.map(mCol)\n",
    "diaDrop['icut'] = diaDrop.cut.map(mCut)\n",
    "diaDrop['iclar'] = diaDrop.clarity.map(mClar)\n",
    "diaDrop['ishape'] = diaDrop['shape'].map(mShape)\n",
    "diaDrop['irep'] = diaDrop.report.map(mRep)\n",
    "diaDrop['ityp'] = diaDrop.type.map(mTyp)\n",
    "diaDrop.head(10)"
   ]
  },
  {
   "cell_type": "markdown",
   "id": "dutch-celebrity",
   "metadata": {},
   "source": [
    "Prüfen auf fehlende Werte (vergessene Kategorien?)."
   ]
  },
  {
   "cell_type": "code",
   "execution_count": null,
   "id": "civic-banking",
   "metadata": {},
   "outputs": [],
   "source": [
    "diaDrop[diaDrop.isna().any(axis=1)]"
   ]
  },
  {
   "cell_type": "markdown",
   "id": "fatal-winning",
   "metadata": {},
   "source": [
    "Verwerfen der ursprünglichen Kategoriespalten"
   ]
  },
  {
   "cell_type": "code",
   "execution_count": null,
   "id": "suitable-recovery",
   "metadata": {},
   "outputs": [],
   "source": [
    "diaNum = diaDrop.drop(['shape', 'cut', 'color', 'clarity', 'report', 'type'], axis=1)\n",
    "diaNum.head()"
   ]
  },
  {
   "cell_type": "markdown",
   "id": "paperback-protocol",
   "metadata": {},
   "source": [
    "Nochmal die Statistik. Die Aussagekraft für die Kategoriespalten ist eher gering."
   ]
  },
  {
   "cell_type": "code",
   "execution_count": null,
   "id": "individual-webcam",
   "metadata": {},
   "outputs": [],
   "source": [
    "diaNum.describe()"
   ]
  },
  {
   "cell_type": "markdown",
   "id": "responsible-trademark",
   "metadata": {},
   "source": [
    "Prüfen der Dimensionen."
   ]
  },
  {
   "cell_type": "code",
   "execution_count": null,
   "id": "advised-valve",
   "metadata": {},
   "outputs": [],
   "source": [
    "diaNum.shape"
   ]
  },
  {
   "cell_type": "markdown",
   "id": "descending-solomon",
   "metadata": {},
   "source": [
    "Aufteilen der Daten in 5000 Trainingsdaten und den Rest als Testdaten. Vorher durchmischen."
   ]
  },
  {
   "cell_type": "code",
   "execution_count": null,
   "id": "composite-wednesday",
   "metadata": {},
   "outputs": [],
   "source": [
    "diaCounts = diaNum.shape[0]\n",
    "shuffleIdx = [x for x in range(diaCounts)]\n",
    "random.shuffle(shuffleIdx)\n",
    "shuffleIdx[:50]\n",
    "idxTrain = shuffleIdx[:5000]\n",
    "idxTest = shuffleIdx[5000:]\n",
    "diaTrain = diaNum.iloc[idxTrain, :]\n",
    "diaTest = diaNum.iloc[idxTest, :]\n",
    "print(diaTrain.shape, diaTest.shape)"
   ]
  },
  {
   "cell_type": "markdown",
   "id": "corresponding-martial",
   "metadata": {},
   "source": [
    "Speichern der Trainings- und Testdaten für die spätere Nutzung."
   ]
  },
  {
   "cell_type": "code",
   "execution_count": null,
   "id": "comparative-package",
   "metadata": {},
   "outputs": [],
   "source": [
    "diaTrain.to_csv('brilliantdia-train.csv', index=False)\n",
    "diaTest.to_csv('brilliantdia-test.csv', index=False)"
   ]
  }
 ],
 "metadata": {
  "kernelspec": {
   "display_name": "Python 3",
   "language": "python",
   "name": "python3"
  },
  "language_info": {
   "codemirror_mode": {
    "name": "ipython",
    "version": 3
   },
   "file_extension": ".py",
   "mimetype": "text/x-python",
   "name": "python",
   "nbconvert_exporter": "python",
   "pygments_lexer": "ipython3",
   "version": "3.7.9"
  }
 },
 "nbformat": 4,
 "nbformat_minor": 5
}
