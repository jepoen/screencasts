{
 "cells": [
  {
   "cell_type": "markdown",
   "id": "f49b015d",
   "metadata": {},
   "source": [
    "# Transposition DataFrame, SQL\n",
    "\n",
    "Hackathon Leipzig 2023"
   ]
  },
  {
   "cell_type": "code",
   "execution_count": null,
   "id": "342f14f9",
   "metadata": {},
   "outputs": [],
   "source": [
    "import pandas as pd\n",
    "import sqlalchemy"
   ]
  },
  {
   "cell_type": "markdown",
   "id": "01b82550",
   "metadata": {},
   "source": [
    "URLs der CVS-Datensätze"
   ]
  },
  {
   "cell_type": "code",
   "execution_count": null,
   "id": "b3cefb68",
   "metadata": {},
   "outputs": [],
   "source": [
    "urlOepnv = 'https://statistik.leipzig.de/opendata/api/values?kategorie_nr=10&rubrik_nr=4&periode=y&format=csv'\n",
    "urlGeburten = 'https://opendata.leipzig.de/dataset/9a96c299-ab95-4468-ae75-f207eb1938a4/resource/fce95310-77f0-40e4-9906-f5fee95aea3f/download/geburtenundfertilitat.csv'"
   ]
  },
  {
   "cell_type": "markdown",
   "id": "51e39af1",
   "metadata": {},
   "source": [
    "Einlesen in Pandas-Dataframe"
   ]
  },
  {
   "cell_type": "code",
   "execution_count": null,
   "id": "90e4b0f4",
   "metadata": {},
   "outputs": [],
   "source": [
    "oepnv = pd.read_csv(urlOepnv, decimal=',')\n",
    "oepnv"
   ]
  },
  {
   "cell_type": "markdown",
   "id": "46f5e2bf",
   "metadata": {},
   "source": [
    "Umbenennen der Features, da doppelte Spaltennamen"
   ]
  },
  {
   "cell_type": "code",
   "execution_count": null,
   "id": "85f92aae",
   "metadata": {},
   "outputs": [],
   "source": [
    "features = ['tr_lines', 'tr_len', 'tr_vehicles', 'tr_km', 'tr_persons',\n",
    "            'bu_lines', 'bu_len', 'bu_vehicles', 'bu_km', 'bu_persons',]\n",
    "oepnv['Kennziffer'] = features\n",
    "oepnv"
   ]
  },
  {
   "cell_type": "markdown",
   "id": "1e529f3d",
   "metadata": {},
   "source": [
    "Einlesen des zweiten Dataframes"
   ]
  },
  {
   "cell_type": "code",
   "execution_count": null,
   "id": "76f04ff7",
   "metadata": {},
   "outputs": [],
   "source": [
    "geburten = pd.read_csv(urlGeburten)\n",
    "geburten"
   ]
  },
  {
   "cell_type": "markdown",
   "id": "07f2cbb7",
   "metadata": {},
   "source": [
    "Bereinigen des ersten Dataframes. Spalte Einheit enthält keine sinnvollen Daten."
   ]
  },
  {
   "cell_type": "code",
   "execution_count": null,
   "id": "55652c94",
   "metadata": {},
   "outputs": [],
   "source": [
    "oepnv0 = oepnv.drop('Einheit', axis=1)\n",
    "oepnv0"
   ]
  },
  {
   "cell_type": "markdown",
   "id": "b91bdf54",
   "metadata": {},
   "source": [
    "## Variante 1\n",
    "\n",
    "Transponieren der NumPy-Matrix\n",
    "\n",
    "- Auswahl der notwendigen Spalten\n",
    "- Umwandeln in NumPy-Array\n",
    "- Transponieren\n",
    "- Umwandeln in DataFrame\n",
    "- Spaltennamen setzen\n",
    "- Jahresspalte hinzufügen"
   ]
  },
  {
   "cell_type": "code",
   "execution_count": null,
   "id": "32d2037e",
   "metadata": {},
   "outputs": [],
   "source": [
    "#data = oepnv0.drop('Kennziffer', axis=1).values\n",
    "data = oepnv0.iloc[:, 1:].values\n",
    "data = data.T\n",
    "oepnvt = pd.DataFrame(data, columns=features)\n",
    "oepnvt['year'] = oepnv0.columns[1:]\n",
    "oepnvt"
   ]
  },
  {
   "cell_type": "markdown",
   "id": "44592803",
   "metadata": {},
   "source": [
    "## Variante 2: stack() und unstack()"
   ]
  },
  {
   "cell_type": "code",
   "execution_count": null,
   "id": "e280c72c",
   "metadata": {},
   "outputs": [],
   "source": [
    "oepnv0"
   ]
  },
  {
   "cell_type": "markdown",
   "id": "fb318081",
   "metadata": {},
   "source": [
    "Spalte, der die folgenden Spaltenwerte zeilenweise zugeordnet werden, zum Index machen."
   ]
  },
  {
   "cell_type": "code",
   "execution_count": null,
   "id": "4acaa1e5",
   "metadata": {},
   "outputs": [],
   "source": [
    "oepnv1 = oepnv0.set_index('Kennziffer')\n",
    "oepnv1"
   ]
  },
  {
   "cell_type": "markdown",
   "id": "d93a2f09",
   "metadata": {},
   "source": [
    "Spalten stapeln"
   ]
  },
  {
   "cell_type": "code",
   "execution_count": null,
   "id": "0ffeecb3",
   "metadata": {},
   "outputs": [],
   "source": [
    "oepnv2 = oepnv1.stack()\n",
    "oepnv2.head(30)"
   ]
  },
  {
   "cell_type": "markdown",
   "id": "5a331f2b",
   "metadata": {},
   "source": [
    "Index zurücksetzen und die Spalten umbenennen"
   ]
  },
  {
   "cell_type": "code",
   "execution_count": null,
   "id": "38b42eb9",
   "metadata": {},
   "outputs": [],
   "source": [
    "oepnv3 = oepnv2.reset_index()\n",
    "oepnv3.columns = ['feature', 'year', 'value']\n",
    "oepnv3"
   ]
  },
  {
   "cell_type": "markdown",
   "id": "243b85d7",
   "metadata": {},
   "source": [
    "Neuen Index setzen:\n",
    "\n",
    "- erster Spalte: bleibt Spalte\n",
    "- zweite Spalte: Index der neuen Spalten"
   ]
  },
  {
   "cell_type": "code",
   "execution_count": null,
   "id": "86b06e46",
   "metadata": {},
   "outputs": [],
   "source": [
    "oepnv4 = oepnv3.set_index(['year', 'feature'])\n",
    "oepnv4"
   ]
  },
  {
   "cell_type": "markdown",
   "id": "6029e17b",
   "metadata": {},
   "source": [
    "Zeilen zu Spalten"
   ]
  },
  {
   "cell_type": "code",
   "execution_count": null,
   "id": "b5addc2e",
   "metadata": {},
   "outputs": [],
   "source": [
    "oepnvt2tmp = oepnv4.unstack()\n",
    "oepnvt2tmp"
   ]
  },
  {
   "cell_type": "markdown",
   "id": "e2773d3e",
   "metadata": {},
   "source": [
    "Zeilenindex zur Jahresspalte machen, Spaltenüberschriften neu setzen"
   ]
  },
  {
   "cell_type": "code",
   "execution_count": null,
   "id": "661dcb05",
   "metadata": {},
   "outputs": [],
   "source": [
    "oepnvt2 = oepnvt2tmp.reset_index()\n",
    "oepnvt2.columns = ['year',] + features\n",
    "oepnvt2"
   ]
  },
  {
   "cell_type": "markdown",
   "id": "ae1f772c",
   "metadata": {},
   "source": [
    "## SQL-Operationen\n",
    "\n",
    "Engine für jeweilige DB erzeugen."
   ]
  },
  {
   "cell_type": "code",
   "execution_count": null,
   "id": "1dc5f58a",
   "metadata": {},
   "outputs": [],
   "source": [
    "engine = sqlalchemy.create_engine('sqlite+pysqlite:///hackathon2023.sqlite3')"
   ]
  },
  {
   "cell_type": "markdown",
   "id": "0908e998",
   "metadata": {},
   "source": [
    "Schreiben der Tabelle, Index wird verworfen, Überschreiben, falls vorhanden"
   ]
  },
  {
   "cell_type": "code",
   "execution_count": null,
   "id": "3d7e1d92",
   "metadata": {},
   "outputs": [],
   "source": [
    "oepnvt2.to_sql('oepnv', engine, if_exists='replace', index=False)"
   ]
  },
  {
   "cell_type": "markdown",
   "id": "287a9d3c",
   "metadata": {},
   "source": [
    "Zweite Tabelle analog."
   ]
  },
  {
   "cell_type": "code",
   "execution_count": null,
   "id": "1534f8d8",
   "metadata": {},
   "outputs": [],
   "source": [
    "geburten.to_sql('geburten', engine, if_exists='replace', index=False)"
   ]
  },
  {
   "cell_type": "markdown",
   "id": "18e3a1cb",
   "metadata": {},
   "source": [
    "Einlesen einer Einzeltabelle aus der Datenbank"
   ]
  },
  {
   "cell_type": "code",
   "execution_count": null,
   "id": "7ac103b0",
   "metadata": {},
   "outputs": [],
   "source": [
    "x = pd.read_sql_table('geburten', engine)\n",
    "x"
   ]
  },
  {
   "cell_type": "markdown",
   "id": "b405c254",
   "metadata": {},
   "source": [
    "Einlesen einer SQL-Abfrage in einen Dataframe"
   ]
  },
  {
   "cell_type": "code",
   "execution_count": null,
   "id": "ade6e6d4",
   "metadata": {},
   "outputs": [],
   "source": [
    "x = pd.read_sql('select a.*, b.* from oepnv as a left join geburten as b on a.year=b.Jahr', engine)\n",
    "x"
   ]
  }
 ],
 "metadata": {
  "kernelspec": {
   "display_name": "Python 3 (ipykernel)",
   "language": "python",
   "name": "python3"
  },
  "language_info": {
   "codemirror_mode": {
    "name": "ipython",
    "version": 3
   },
   "file_extension": ".py",
   "mimetype": "text/x-python",
   "name": "python",
   "nbconvert_exporter": "python",
   "pygments_lexer": "ipython3",
   "version": "3.9.16"
  }
 },
 "nbformat": 4,
 "nbformat_minor": 5
}
