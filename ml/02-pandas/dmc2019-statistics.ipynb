{
 "cells": [
  {
   "cell_type": "markdown",
   "id": "postal-interstate",
   "metadata": {},
   "source": [
    "# DMC 2019: Statistische Analyse"
   ]
  },
  {
   "cell_type": "code",
   "execution_count": null,
   "id": "female-house",
   "metadata": {},
   "outputs": [],
   "source": [
    "import pandas as pd"
   ]
  },
  {
   "cell_type": "markdown",
   "id": "incorporate-internet",
   "metadata": {},
   "source": [
    "Einlesen Trainingsdaten."
   ]
  },
  {
   "cell_type": "code",
   "execution_count": null,
   "id": "surrounded-attribute",
   "metadata": {},
   "outputs": [],
   "source": [
    "data = pd.read_csv('train.csv', sep='|')\n",
    "data.info()"
   ]
  },
  {
   "cell_type": "markdown",
   "id": "accredited-clearing",
   "metadata": {},
   "source": [
    "Einlesen der zu bewertenden Daten"
   ]
  },
  {
   "cell_type": "code",
   "execution_count": null,
   "id": "proved-huntington",
   "metadata": {},
   "outputs": [],
   "source": [
    "predict = pd.read_csv('test.csv', sep='|')\n",
    "predict.info()"
   ]
  },
  {
   "cell_type": "markdown",
   "id": "dense-nepal",
   "metadata": {},
   "source": [
    "Statistische Grundgrößen Training und Vorhersagedaten"
   ]
  },
  {
   "cell_type": "code",
   "execution_count": null,
   "id": "alternate-bicycle",
   "metadata": {},
   "outputs": [],
   "source": [
    "data.describe()"
   ]
  },
  {
   "cell_type": "code",
   "execution_count": null,
   "id": "affecting-treat",
   "metadata": {},
   "outputs": [],
   "source": [
    "predict.describe()"
   ]
  },
  {
   "cell_type": "markdown",
   "id": "modern-satellite",
   "metadata": {},
   "source": [
    "Untersuchung Zielgröße: 2 Klassen, unbalanciert."
   ]
  },
  {
   "cell_type": "code",
   "execution_count": null,
   "id": "serious-cartoon",
   "metadata": {},
   "outputs": [],
   "source": [
    "data.fraud.value_counts()"
   ]
  },
  {
   "cell_type": "markdown",
   "id": "diagnostic-covering",
   "metadata": {},
   "source": [
    "Kategoriale Größe Trustlevel für Training und Vorhersagedaten, skaliert auf relative Werte."
   ]
  },
  {
   "cell_type": "code",
   "execution_count": null,
   "id": "adequate-consequence",
   "metadata": {},
   "outputs": [],
   "source": [
    "trData = data.trustLevel.value_counts(sort=False)\n",
    "trData / data.shape[0]"
   ]
  },
  {
   "cell_type": "code",
   "execution_count": null,
   "id": "organized-speech",
   "metadata": {},
   "outputs": [],
   "source": [
    "trPredict = predict.trustLevel.value_counts(sort=False)\n",
    "trPredict/predict.shape[0]"
   ]
  },
  {
   "cell_type": "markdown",
   "id": "combined-grenada",
   "metadata": {},
   "source": [
    "Dichteplot einer Komponente, sollte für alle durchgeführt und verglichen werden."
   ]
  },
  {
   "cell_type": "code",
   "execution_count": null,
   "id": "distinguished-desert",
   "metadata": {},
   "outputs": [],
   "source": [
    "ax = data.totalScanTimeInSeconds.plot.density()"
   ]
  },
  {
   "cell_type": "code",
   "execution_count": null,
   "id": "formal-summer",
   "metadata": {},
   "outputs": [],
   "source": [
    "ax = predict.totalScanTimeInSeconds.plot.density()"
   ]
  },
  {
   "cell_type": "markdown",
   "id": "olympic-punishment",
   "metadata": {},
   "source": [
    "Korrelation bzgl. Zielgröße, Versuch der Datenanreicherung"
   ]
  },
  {
   "cell_type": "code",
   "execution_count": null,
   "id": "instrumental-charles",
   "metadata": {},
   "outputs": [],
   "source": [
    "data['rel'] = data.lineItemVoidsPerPosition/data.scannedLineItemsPerSecond\n",
    "corr = data.corr()\n",
    "print(corr['fraud'].sort_values(ascending=False))\n",
    "data = data.drop('rel', axis=1)"
   ]
  },
  {
   "cell_type": "markdown",
   "id": "prompt-respect",
   "metadata": {},
   "source": [
    "Scattermatrix, Farbschema sollte angepasst werden."
   ]
  },
  {
   "cell_type": "code",
   "execution_count": null,
   "id": "arranged-heather",
   "metadata": {},
   "outputs": [],
   "source": [
    "fraud = data.fraud\n",
    "features = data.drop('fraud', axis=1)"
   ]
  },
  {
   "cell_type": "code",
   "execution_count": null,
   "id": "parallel-mortality",
   "metadata": {},
   "outputs": [],
   "source": [
    "ax = pd.plotting.scatter_matrix(features, c=fraud, cmap='rainbow', figsize=(20, 20))"
   ]
  },
  {
   "cell_type": "markdown",
   "id": "preceding-racing",
   "metadata": {},
   "source": [
    "Scatterplot eines Feature-Paars, Zielgröße als Farbe."
   ]
  },
  {
   "cell_type": "code",
   "execution_count": null,
   "id": "radio-cruise",
   "metadata": {},
   "outputs": [],
   "source": [
    "ax = features.plot.scatter('trustLevel', 'lineItemVoidsPerPosition', c=fraud, cmap='rainbow')"
   ]
  },
  {
   "cell_type": "markdown",
   "id": "beautiful-interest",
   "metadata": {},
   "source": [
    "Scatterplot Feature-Zielgröße."
   ]
  },
  {
   "cell_type": "code",
   "execution_count": null,
   "id": "suburban-nightmare",
   "metadata": {},
   "outputs": [],
   "source": [
    "ax = data.plot.scatter('lineItemVoidsPerPosition', 'fraud')"
   ]
  }
 ],
 "metadata": {
  "kernelspec": {
   "display_name": "Python 3",
   "language": "python",
   "name": "python3"
  },
  "language_info": {
   "codemirror_mode": {
    "name": "ipython",
    "version": 3
   },
   "file_extension": ".py",
   "mimetype": "text/x-python",
   "name": "python",
   "nbconvert_exporter": "python",
   "pygments_lexer": "ipython3",
   "version": "3.7.9"
  }
 },
 "nbformat": 4,
 "nbformat_minor": 5
}
