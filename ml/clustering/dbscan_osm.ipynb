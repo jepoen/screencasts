{
 "cells": [
  {
   "cell_type": "markdown",
   "id": "7a1a72b3-9a32-427b-906c-2e6a7a1025b3",
   "metadata": {},
   "source": [
    "# Clustering mit DBSCAN\n",
    "\n",
    "Zusammenhängende Gebiete in OpenStreetMap erkennen"
   ]
  },
  {
   "cell_type": "code",
   "execution_count": null,
   "id": "515e9795-feb7-4ca7-bdf0-62db21d46fd8",
   "metadata": {},
   "outputs": [],
   "source": [
    "import numpy as np\n",
    "import pandas as pd\n",
    "import matplotlib.pyplot as plt\n",
    "from sklearn import cluster, preprocessing\n",
    "import requests"
   ]
  },
  {
   "cell_type": "markdown",
   "id": "3dc7f9dc-e1ea-4ecc-8b43-1dba417b8c19",
   "metadata": {},
   "source": [
    "Daten für Overpass-API-Abfrage\n",
    "\n",
    "- Beschreibung: [Wiki](https://wiki.openstreetmap.org/wiki/Overpass_API)\n",
    "- Server: [overpass-api.de](https://overpass-api.de/api/interpreter)\n",
    "- Interaktiver Test: [overpass-turbo](https://overpass-turbo.eu)"
   ]
  },
  {
   "cell_type": "code",
   "execution_count": null,
   "id": "edd9f381-0449-4a31-8131-e3cec2cf4f3b",
   "metadata": {},
   "outputs": [],
   "source": [
    "query = '''\n",
    "[bbox: 50.828, 14.043, 50.838, 14.059];\n",
    "way[natural=cliff];\n",
    ">;\n",
    "out;\n",
    "'''\n",
    "# bbox: lat0, lon0, lat1, lon1\n",
    "# dlat: 0.01, dlon: 0.016\n",
    "URL = 'https://overpass-api.de/api/interpreter'"
   ]
  },
  {
   "cell_type": "markdown",
   "id": "9d0728df-02ad-44b9-9735-88ae90998f8e",
   "metadata": {},
   "source": [
    "POST-Request"
   ]
  },
  {
   "cell_type": "code",
   "execution_count": null,
   "id": "ba5adcb2-35cb-4289-9879-0d08047b2183",
   "metadata": {},
   "outputs": [],
   "source": [
    "r = requests.post(url=URL, data={'data': query})\n",
    "#print(r.text)"
   ]
  },
  {
   "cell_type": "markdown",
   "id": "2341425f-772c-4651-9a8d-710987820f12",
   "metadata": {},
   "source": [
    "Umwandeln in Data Frame. Nur für einfach strukturierte Daten geeignet!"
   ]
  },
  {
   "cell_type": "code",
   "execution_count": null,
   "id": "0a7cbecf-de01-4ed3-b80e-8be4a62c1b0f",
   "metadata": {},
   "outputs": [],
   "source": [
    "df = pd.read_xml(r.content, xpath='./node', parser='etree')\n",
    "df"
   ]
  },
  {
   "cell_type": "markdown",
   "id": "ed2e0bbc-364d-4b35-ab1c-2d228a078738",
   "metadata": {},
   "source": [
    "Graphische Kontrolle"
   ]
  },
  {
   "cell_type": "code",
   "execution_count": null,
   "id": "812a5ce0-67e6-4b9d-91f1-7bd438fc888c",
   "metadata": {},
   "outputs": [],
   "source": [
    "df.plot('lon', 'lat', kind='scatter')"
   ]
  },
  {
   "cell_type": "markdown",
   "id": "32922c29-7e15-478c-99e7-c8c1a332351c",
   "metadata": {},
   "source": [
    "Skalierung (naiv).\n",
    "\n",
    "Korrekte Skalierung über Berechnung der [Orthodrome](https://de.wikipedia.org/wiki/Orthodrome):\n",
    "- Bestimme Abstand zwischen linken und rechten bzw. zwischen oberen und unteren Rand der Bounding Box.\n",
    "- Berechne die Skalierungsfaktoren für x- und y-Richtung und skaliere mit diesen die Daten."
   ]
  },
  {
   "cell_type": "code",
   "execution_count": null,
   "id": "82695852-6c10-40a3-a651-3e3983cd34d2",
   "metadata": {},
   "outputs": [],
   "source": [
    "X = df.loc[:, ['lon', 'lat']].values\n",
    "scaler = preprocessing.StandardScaler()\n",
    "X = scaler.fit_transform(X)"
   ]
  },
  {
   "cell_type": "markdown",
   "id": "2270b9cb-8f64-4744-845b-1b3d5d0c4cdc",
   "metadata": {},
   "source": [
    "Kontrollanzeige skalierte Daten"
   ]
  },
  {
   "cell_type": "code",
   "execution_count": null,
   "id": "94a9751f-c32b-4688-b816-b4b3029d02c8",
   "metadata": {},
   "outputs": [],
   "source": [
    "plt.scatter(X[:, 0], X[:, 1], alpha=0.5)"
   ]
  },
  {
   "cell_type": "markdown",
   "id": "4ff96dbb-967e-4f73-a970-65f0185ef502",
   "metadata": {},
   "source": [
    "KMeans Clustering"
   ]
  },
  {
   "cell_type": "code",
   "execution_count": null,
   "id": "c103c89e-628f-427e-9eb8-551275bd5c5d",
   "metadata": {},
   "outputs": [],
   "source": [
    "K = 8\n",
    "kmeans = cluster.KMeans(n_clusters=K)\n",
    "labels = kmeans.fit_predict(X)"
   ]
  },
  {
   "cell_type": "code",
   "execution_count": null,
   "id": "9cf77ad5-d7fc-46bc-83a5-a1b680c0b7be",
   "metadata": {},
   "outputs": [],
   "source": [
    "plt.scatter(X[:, 0], X[:, 1], c=labels, cmap='rainbow', alpha=0.5)"
   ]
  },
  {
   "cell_type": "markdown",
   "id": "edefebd4-a9d6-423c-af0a-63cb5c288a27",
   "metadata": {},
   "source": [
    "DBScan"
   ]
  },
  {
   "cell_type": "code",
   "execution_count": null,
   "id": "8f895663-7c27-4260-a5a2-08851947c04f",
   "metadata": {},
   "outputs": [],
   "source": [
    "dbscan = cluster.DBSCAN(eps=0.5)\n",
    "labels = dbscan.fit_predict(X)\n",
    "# Ermittelte Label und Anzahl zugehöriger Elemente)\n",
    "u, c = np.unique(labels, return_counts=True)\n",
    "u, c"
   ]
  },
  {
   "cell_type": "markdown",
   "id": "a30c5f56-ca97-480c-8145-f1e45effd71a",
   "metadata": {},
   "source": [
    "Anzeige der Cluster"
   ]
  },
  {
   "cell_type": "code",
   "execution_count": null,
   "id": "03b39fc1-359f-4857-914c-98b23b6acea9",
   "metadata": {
    "scrolled": true
   },
   "outputs": [],
   "source": [
    "plt.scatter(X[:, 0], X[:, 1], c=labels, cmap='rainbow', alpha=0.5)"
   ]
  },
  {
   "cell_type": "markdown",
   "id": "52bc925e-5d41-41de-817e-b2b95939a04a",
   "metadata": {},
   "source": [
    "Suche optimales Epsilon"
   ]
  },
  {
   "cell_type": "code",
   "execution_count": null,
   "id": "c2a71fb9-a23b-4d03-9749-4ee32468b900",
   "metadata": {},
   "outputs": [],
   "source": [
    "eps_list = np.arange(0.1, 1.0, 0.1)\n",
    "nr = 0\n",
    "plt.figure(figsize=(15, 15))\n",
    "for eps in eps_list:\n",
    "    nr += 1\n",
    "    plt.subplot(3, 3, nr)\n",
    "    dbscan = cluster.DBSCAN(eps=eps)\n",
    "    labels = dbscan.fit_predict(X)\n",
    "    cl_count = len(np.unique(labels))\n",
    "    plt.scatter(X[:, 0], X[:, 1], c=labels, cmap='rainbow', alpha=0.5)\n",
    "    plt.title('eps: {:.1} cluster: {}'.format(eps, cl_count))"
   ]
  }
 ],
 "metadata": {
  "kernelspec": {
   "display_name": "Python 3 (ipykernel)",
   "language": "python",
   "name": "python3"
  },
  "language_info": {
   "codemirror_mode": {
    "name": "ipython",
    "version": 3
   },
   "file_extension": ".py",
   "mimetype": "text/x-python",
   "name": "python",
   "nbconvert_exporter": "python",
   "pygments_lexer": "ipython3",
   "version": "3.12.2"
  }
 },
 "nbformat": 4,
 "nbformat_minor": 5
}
