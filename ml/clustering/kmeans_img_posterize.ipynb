{
 "cells": [
  {
   "cell_type": "markdown",
   "id": "7490707d-e4f7-407e-8c5f-8d75bd7a5d9a",
   "metadata": {},
   "source": [
    "# KMeans-Clustering: Farbreduktion in Bildern"
   ]
  },
  {
   "cell_type": "code",
   "execution_count": null,
   "id": "05d0e2e1-92e4-4be9-82c5-87a3c9976692",
   "metadata": {},
   "outputs": [],
   "source": [
    "import numpy as np\n",
    "import matplotlib.pyplot as plt\n",
    "from sklearn import cluster, manifold"
   ]
  },
  {
   "cell_type": "markdown",
   "id": "b3223757-d285-4794-8847-b29374b0296b",
   "metadata": {},
   "source": [
    "Einlesen eines Bildes"
   ]
  },
  {
   "cell_type": "code",
   "execution_count": null,
   "id": "5f7706f1-0524-404a-ad91-8ce47998fed2",
   "metadata": {},
   "outputs": [],
   "source": [
    "img = plt.imread('ostroh1.jpg')"
   ]
  },
  {
   "cell_type": "markdown",
   "id": "e80fd044-88cd-44ba-8e17-755a795b9457",
   "metadata": {},
   "source": [
    "Bilddimensionen: Breite, Höhe, 3 Farbkanäle (rot, grün, blau)"
   ]
  },
  {
   "cell_type": "code",
   "execution_count": null,
   "id": "bc00e471-7bcb-4a08-869e-d5f472a314db",
   "metadata": {},
   "outputs": [],
   "source": [
    "img.shape"
   ]
  },
  {
   "cell_type": "markdown",
   "id": "15b3f868-f496-406c-acbd-ea82fb3fd5c5",
   "metadata": {},
   "source": [
    "Kontrollanzeige"
   ]
  },
  {
   "cell_type": "code",
   "execution_count": null,
   "id": "a3ac1dfb-a838-474a-9b1c-f42020c8852f",
   "metadata": {},
   "outputs": [],
   "source": [
    "plt.imshow(img)\n",
    "plt.axis('off')\n",
    "plt.show()"
   ]
  },
  {
   "cell_type": "markdown",
   "id": "31595b8c-8d73-4063-926c-aa1fc21b8902",
   "metadata": {},
   "source": [
    "Umordnung: jeder Bildpunkt ist ein Datenpunkt mit 3 Features."
   ]
  },
  {
   "cell_type": "code",
   "execution_count": null,
   "id": "3204d947-96d6-4993-b7b2-5cbd4d0880e5",
   "metadata": {},
   "outputs": [],
   "source": [
    "flat = img.reshape(-1, 3)\n",
    "flat.shape"
   ]
  },
  {
   "cell_type": "markdown",
   "id": "616c2124-573c-40a9-9dc3-494688098737",
   "metadata": {},
   "source": [
    "Auswahl einer Stichprobe (sonst zu langsam)"
   ]
  },
  {
   "cell_type": "code",
   "execution_count": null,
   "id": "e45008be-a71c-40b2-b659-215d13d157b9",
   "metadata": {},
   "outputs": [],
   "source": [
    "N_SAMPLE = 2000\n",
    "idx = np.arange(flat.shape[0])\n",
    "np.random.shuffle(idx)\n",
    "idx_sample = idx[:N_SAMPLE]\n",
    "#idx_sample.shape, idx_sample\n",
    "sample = flat[idx_sample,:]\n",
    "sample.shape"
   ]
  },
  {
   "cell_type": "markdown",
   "id": "ecd0d96d-3dc5-49d7-984d-8fb5424db4d3",
   "metadata": {},
   "source": [
    "Projektion der 3-dimensionalen Punkte in die Ebene, wobei Punkte ähnlicher Farbe nahe beieinander liegen."
   ]
  },
  {
   "cell_type": "code",
   "execution_count": null,
   "id": "54dc9ead-bb5d-4ce2-85d4-0f4f57aff5c0",
   "metadata": {},
   "outputs": [],
   "source": [
    "tsne = manifold.TSNE().fit_transform(sample)\n",
    "tsne.shape"
   ]
  },
  {
   "cell_type": "code",
   "execution_count": null,
   "id": "848e6b93-27ab-4a2e-bbe7-2f0c448fa9bf",
   "metadata": {},
   "outputs": [],
   "source": [
    "plt.scatter(tsne[:, 0], tsne[:, 1], alpha=0.5)\n",
    "plt.show()"
   ]
  },
  {
   "cell_type": "markdown",
   "id": "e87ee74a-7670-4ce5-99e9-eec6953fb0aa",
   "metadata": {},
   "source": [
    "KMeans-Clustering"
   ]
  },
  {
   "cell_type": "code",
   "execution_count": null,
   "id": "9de5567e-8798-4f5a-af50-419c29db3980",
   "metadata": {},
   "outputs": [],
   "source": [
    "K = 4"
   ]
  },
  {
   "cell_type": "markdown",
   "id": "83945936-94f0-4af4-8ee9-9f75303bffb7",
   "metadata": {},
   "source": [
    "Training auf der Stichprobe"
   ]
  },
  {
   "cell_type": "code",
   "execution_count": null,
   "id": "3fbacf35-1a47-4b02-89d7-3f99b0f023ec",
   "metadata": {
    "scrolled": true
   },
   "outputs": [],
   "source": [
    "kmeans = cluster.KMeans(n_clusters=K, n_init='auto')\n",
    "kmeans.fit(sample)"
   ]
  },
  {
   "cell_type": "markdown",
   "id": "5eeae818-e3df-40f3-b4df-cab69ef44674",
   "metadata": {},
   "source": [
    "Vorhersage für die Stichprobe, Plausibilitätskontrolle."
   ]
  },
  {
   "cell_type": "code",
   "execution_count": null,
   "id": "99062ad5-a298-46b1-a557-e42dafb62421",
   "metadata": {},
   "outputs": [],
   "source": [
    "labels_sample = kmeans.predict(sample)\n",
    "labels_sample, np.unique(labels_sample)"
   ]
  },
  {
   "cell_type": "markdown",
   "id": "f5b0aa38-b03c-4cad-b1c1-f484bbc725c8",
   "metadata": {},
   "source": [
    "Zuordnung der Cluster in der ebenen Darstellung."
   ]
  },
  {
   "cell_type": "code",
   "execution_count": null,
   "id": "0baaeb2b-f8ba-47f6-bbde-a807bd088d09",
   "metadata": {},
   "outputs": [],
   "source": [
    "plt.scatter(tsne[:, 0], tsne[:, 1], c=labels_sample, alpha=0.5)\n",
    "plt.show()"
   ]
  },
  {
   "cell_type": "markdown",
   "id": "24df804f-3580-49c8-a405-d19429ca776f",
   "metadata": {},
   "source": [
    "Bestimmen der Cluster für alle Bildpunkte."
   ]
  },
  {
   "cell_type": "code",
   "execution_count": null,
   "id": "ed3367d1-fec8-480f-bbb3-8021436180ee",
   "metadata": {},
   "outputs": [],
   "source": [
    "labels = kmeans.predict(flat)\n",
    "labels.shape"
   ]
  },
  {
   "cell_type": "markdown",
   "id": "75543cc2-b7f1-4136-a31c-1402839e653f",
   "metadata": {},
   "source": [
    "Statistik der Cluster"
   ]
  },
  {
   "cell_type": "code",
   "execution_count": null,
   "id": "b7ab4d93-e297-4c13-877c-f18e24201b32",
   "metadata": {},
   "outputs": [],
   "source": [
    "u, c = np.unique(labels, return_counts=True)\n",
    "u, c"
   ]
  },
  {
   "cell_type": "code",
   "execution_count": null,
   "id": "6f41fb2e-9c2e-4d52-9efe-d6a8fa8be495",
   "metadata": {},
   "outputs": [],
   "source": [
    "plt.bar(u, c)\n",
    "plt.show()"
   ]
  },
  {
   "cell_type": "markdown",
   "id": "d392cbfa-b774-40a5-a3f2-626e3f1cf280",
   "metadata": {},
   "source": [
    "Coordinaten (= Farben) der Cluster-Centren."
   ]
  },
  {
   "cell_type": "code",
   "execution_count": null,
   "id": "7dcc66a0-6c66-4309-9170-129aec9df840",
   "metadata": {},
   "outputs": [],
   "source": [
    "kmeans.cluster_centers_"
   ]
  },
  {
   "cell_type": "markdown",
   "id": "b70f0d25-59e4-4ddd-b1de-6ab9ae376223",
   "metadata": {},
   "source": [
    "Erzeugen des posterisierten Bildes mit K Farben, Typumwandlung nach `int` erforderlich."
   ]
  },
  {
   "cell_type": "code",
   "execution_count": null,
   "id": "08f161f5-8982-4fdc-a943-99f4e4cd397d",
   "metadata": {},
   "outputs": [],
   "source": [
    "posterized = kmeans.cluster_centers_[labels].astype(int)\n",
    "posterized, posterized.shape"
   ]
  },
  {
   "cell_type": "markdown",
   "id": "a3f2e3f1-874c-42b3-aae3-d2691898e403",
   "metadata": {},
   "source": [
    "Rückumwandlung in die korrekten Bilddimensionen (Länge x Breite x Farbkanäle)"
   ]
  },
  {
   "cell_type": "code",
   "execution_count": null,
   "id": "ee7bd12c-f96d-49d6-a14c-ce26cbe6aac4",
   "metadata": {},
   "outputs": [],
   "source": [
    "img_poster = posterized.reshape(img.shape)\n",
    "img_poster.shape"
   ]
  },
  {
   "cell_type": "markdown",
   "id": "4864353c-06ce-46ce-a3f1-998a0fb36d4b",
   "metadata": {},
   "source": [
    "Kontrollanzeige."
   ]
  },
  {
   "cell_type": "code",
   "execution_count": null,
   "id": "61a0ad84-db6c-46bf-b197-ec07b7d321ea",
   "metadata": {},
   "outputs": [],
   "source": [
    "plt.imshow(img_poster)\n",
    "plt.axis('off')\n",
    "plt.show()"
   ]
  },
  {
   "cell_type": "markdown",
   "id": "911a30ea-c95e-41ea-981f-3cf839fb2d9a",
   "metadata": {},
   "source": [
    "## Test mit verschiedenen Cluster-Zahlen."
   ]
  },
  {
   "cell_type": "markdown",
   "id": "4a8a8d3c-1bd1-45d5-83fb-e405a5ed30eb",
   "metadata": {},
   "source": [
    "Hilfsfunktion für Bildumwandlung."
   ]
  },
  {
   "cell_type": "code",
   "execution_count": null,
   "id": "8c31d1cf-90f3-4cbf-995c-f2eb3cce70f2",
   "metadata": {},
   "outputs": [],
   "source": [
    "def posterize(sample, data, k, shape):\n",
    "    kmeans = cluster.KMeans(n_clusters=k, n_init='auto')\n",
    "    kmeans.fit(sample)\n",
    "    labels = kmeans.predict(data)\n",
    "    return kmeans.cluster_centers_[labels].astype(int).reshape(shape)"
   ]
  },
  {
   "cell_type": "markdown",
   "id": "43686859-3f39-40ac-b083-e95ec5998a96",
   "metadata": {},
   "source": [
    "Test der Hilfsfunktion"
   ]
  },
  {
   "cell_type": "code",
   "execution_count": null,
   "id": "5e04eb97-ba21-4961-ac0a-0b3672ba52fa",
   "metadata": {},
   "outputs": [],
   "source": [
    "p = posterize(sample, flat, 4, img.shape)\n",
    "plt.imshow(p)\n",
    "plt.axis('off')\n",
    "plt.show()"
   ]
  },
  {
   "cell_type": "markdown",
   "id": "753b1a37-36fd-41d7-bbff-4f0e3b40e340",
   "metadata": {},
   "source": [
    "Ergebnis für Cluster-Zahlen von 2 bis 10"
   ]
  },
  {
   "cell_type": "code",
   "execution_count": null,
   "id": "b889d14e-4246-49f7-a97e-dea527ee872a",
   "metadata": {},
   "outputs": [],
   "source": [
    "plt.figure(figsize=(15,12))\n",
    "nr = 0\n",
    "for k in range(2, 11):\n",
    "    nr += 1\n",
    "    plt.subplot(3, 3, nr)\n",
    "    p = posterize(sample, flat, k, img.shape)\n",
    "    plt.imshow(p)\n",
    "    plt.title('K = {}'.format(k))\n",
    "    plt.axis('off')\n"
   ]
  }
 ],
 "metadata": {
  "kernelspec": {
   "display_name": "Python 3 (ipykernel)",
   "language": "python",
   "name": "python3"
  },
  "language_info": {
   "codemirror_mode": {
    "name": "ipython",
    "version": 3
   },
   "file_extension": ".py",
   "mimetype": "text/x-python",
   "name": "python",
   "nbconvert_exporter": "python",
   "pygments_lexer": "ipython3",
   "version": "3.11.5"
  }
 },
 "nbformat": 4,
 "nbformat_minor": 5
}
