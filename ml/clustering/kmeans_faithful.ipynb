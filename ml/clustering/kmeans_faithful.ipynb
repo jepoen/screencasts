{
 "cells": [
  {
   "cell_type": "markdown",
   "id": "a40ce6a2-1757-460f-8a12-891e0f9c18af",
   "metadata": {},
   "source": [
    "# KMeans-Clustering\n",
    "\n",
    "Algorithmus und *Scikit-learn*-Estimator\n",
    "\n",
    "Datensatz: *Old Faithful Geyser*, aus *R* exportiert"
   ]
  },
  {
   "cell_type": "code",
   "execution_count": null,
   "id": "ff3f7c3c-ee10-4277-9880-b7775854dc2d",
   "metadata": {},
   "outputs": [],
   "source": [
    "import pandas as pd\n",
    "import numpy as np\n",
    "import matplotlib # for colormap\n",
    "import matplotlib.pyplot as plt\n",
    "from sklearn import compose, preprocessing"
   ]
  },
  {
   "cell_type": "markdown",
   "id": "0be6ebbb-d5fb-4fa2-8775-d723b5502003",
   "metadata": {},
   "source": [
    "Einlesen und Analyse der Daten"
   ]
  },
  {
   "cell_type": "code",
   "execution_count": null,
   "id": "ca9f2547-8342-44f1-a05f-ebe9c288a05f",
   "metadata": {},
   "outputs": [],
   "source": [
    "faithful = pd.read_csv('faithful.csv')\n",
    "print(faithful.info())\n",
    "faithful.describe()"
   ]
  },
  {
   "cell_type": "code",
   "execution_count": null,
   "id": "a0f4dc0e-5b77-4e51-9b2e-0b6f06a9e26c",
   "metadata": {
    "scrolled": true
   },
   "outputs": [],
   "source": [
    "faithful.head()"
   ]
  },
  {
   "cell_type": "markdown",
   "id": "4a5ba18f-84df-41e5-ad42-d7f75b31bc42",
   "metadata": {},
   "source": [
    "Visuelle Darstellung\n",
    "\n",
    "- 2 Häufungen erkennbar\n",
    "- Wertebereiche x, y verschieden"
   ]
  },
  {
   "cell_type": "code",
   "execution_count": null,
   "id": "69cd970b-3604-4d98-9120-c4d65cb466fb",
   "metadata": {
    "scrolled": true
   },
   "outputs": [],
   "source": [
    "_ = faithful.plot.scatter('waiting', 'eruptions')"
   ]
  },
  {
   "cell_type": "markdown",
   "id": "08acf0bc-8f52-4c86-b7dd-5a27dad4498f",
   "metadata": {},
   "source": [
    "Skalierung der Daten"
   ]
  },
  {
   "cell_type": "code",
   "execution_count": null,
   "id": "b8bb82a2-d789-40cb-9355-c539e52d6a6b",
   "metadata": {},
   "outputs": [],
   "source": [
    "prepr = compose.ColumnTransformer([\n",
    "    ('num', preprocessing.StandardScaler(), ['waiting', 'eruptions']),\n",
    "])\n",
    "X = prepr.fit_transform(faithful)\n",
    "X.shape"
   ]
  },
  {
   "cell_type": "markdown",
   "id": "7d387056-9281-4c4e-af11-11fe99bc2b23",
   "metadata": {},
   "source": [
    "Kontrollplot"
   ]
  },
  {
   "cell_type": "code",
   "execution_count": null,
   "id": "b8cf4164-b95c-46a3-bf8d-c277be2ef09b",
   "metadata": {},
   "outputs": [],
   "source": [
    "plt.scatter(X[:,0], X[:,1])\n",
    "plt.show()"
   ]
  },
  {
   "cell_type": "markdown",
   "id": "b21f17fa-d7eb-40aa-bf79-1ba33e666167",
   "metadata": {},
   "source": [
    "Festlegung Cluster-Zahl"
   ]
  },
  {
   "cell_type": "code",
   "execution_count": null,
   "id": "31fc57d2-4b70-4a6d-a7b3-88289aff8860",
   "metadata": {},
   "outputs": [],
   "source": [
    "K = 2"
   ]
  },
  {
   "cell_type": "markdown",
   "id": "d6f7e81f-5e86-417d-82d7-01fa2057735f",
   "metadata": {},
   "source": [
    "Zufällige Festlegung der Cluster-Zentren"
   ]
  },
  {
   "cell_type": "code",
   "execution_count": null,
   "id": "75d813c5-d380-4404-aae9-aa47f87792fe",
   "metadata": {},
   "outputs": [],
   "source": [
    "centers = np.random.uniform(-1, 1, (K, 2))\n",
    "centers"
   ]
  },
  {
   "cell_type": "markdown",
   "id": "1cecd6ff-1849-4ded-adb6-e7bde02e67e9",
   "metadata": {},
   "source": [
    "Hilfsfunktion: Plot der klassifizierten Daten und Clusterzentren"
   ]
  },
  {
   "cell_type": "code",
   "execution_count": null,
   "id": "bdf0e3dd-7a39-453f-b3ea-d3db18ff598e",
   "metadata": {},
   "outputs": [],
   "source": [
    "def plot_knn(X, clusters, centers):\n",
    "    cmap = matplotlib.colormaps['jet']\n",
    "    colors = cmap(np.linspace(0, 1, centers.shape[0] + 1)) # K + 1 Farben\n",
    "    cl_colors = [colors[c] for c in clusters]\n",
    "    cent_colors = colors[0:-1] # K Werte\n",
    "    plt.scatter(X[:,0], X[:, 1], c = cl_colors, alpha = 0.5, s=20)\n",
    "    plt.scatter(centers[:,0], centers[:,1], c = cent_colors, marker='*', s=200)\n",
    "    #plt.show()"
   ]
  },
  {
   "cell_type": "markdown",
   "id": "1634f5e6-544b-4b72-a499-5116725b8cee",
   "metadata": {},
   "source": [
    "Test, noch keine Cluster zugeordnet (Dummy-Cluster K=2)"
   ]
  },
  {
   "cell_type": "code",
   "execution_count": null,
   "id": "ec90a7ab-fb1c-4b2a-bcb9-bad624f59e34",
   "metadata": {},
   "outputs": [],
   "source": [
    "plot_knn(X, np.full(X.shape[0], K), centers)"
   ]
  },
  {
   "cell_type": "markdown",
   "id": "b06f4dac-e7be-4ddd-bad0-1a8c6e3c59e9",
   "metadata": {},
   "source": [
    "Wiederhole:\n",
    "\n",
    "- Bestimme Abstände zu den Clusterzentren und wähle Zentrum-Nummer kleinsten Abstand\n",
    "- Verschiebe Clusterzentren in die Mitte der Cluster"
   ]
  },
  {
   "cell_type": "markdown",
   "id": "1a30e26e-50e0-4e83-ab10-315b90273911",
   "metadata": {},
   "source": [
    "Bestimmen der Abstände aller Datenpunkte zu allen Cluster-Zentren"
   ]
  },
  {
   "cell_type": "code",
   "execution_count": null,
   "id": "7254ae7b-27d9-4050-876f-8807bbe2a69e",
   "metadata": {},
   "outputs": [],
   "source": [
    "def get_dists(X, centers):\n",
    "    K = centers.shape[0]\n",
    "    dists = list()\n",
    "    for k in range(K):\n",
    "        d = np.square(X - centers[k,:].reshape(1, 2))\n",
    "        d = np.sum(d, axis=1)\n",
    "        #print(d.shape)\n",
    "        dists.append(d.reshape(-1,1))\n",
    "    return np.hstack(dists)"
   ]
  },
  {
   "cell_type": "markdown",
   "id": "8caad0cd-c2f3-4b66-859b-edc453411bca",
   "metadata": {},
   "source": [
    "Auswahl des Clusters mit dem kleinsten Abstand zum Zentrum"
   ]
  },
  {
   "cell_type": "code",
   "execution_count": null,
   "id": "7415e695-ef46-457c-9f28-2b21aba4da60",
   "metadata": {},
   "outputs": [],
   "source": [
    "def get_cluster(X, centers):\n",
    "    K = centers.shape[0]\n",
    "    d = get_dists(X, centers)\n",
    "    return np.argmin(d, axis=1)"
   ]
  },
  {
   "cell_type": "markdown",
   "id": "e8d03fea-47e8-471c-ba69-80deadf9f0e1",
   "metadata": {},
   "source": [
    "Test der Funktionen"
   ]
  },
  {
   "cell_type": "code",
   "execution_count": null,
   "id": "9f931892-82c7-4f76-a065-49ff5e62e835",
   "metadata": {},
   "outputs": [],
   "source": [
    "d = get_dists(X, centers)\n",
    "print(d[:5,:])\n",
    "clusters = get_cluster(X, centers)\n",
    "print(clusters[:5])"
   ]
  },
  {
   "cell_type": "markdown",
   "id": "b6078f3f-7500-47d0-9b94-aa6c41112f76",
   "metadata": {},
   "source": [
    "Plot mit den ermittelten Clustern"
   ]
  },
  {
   "cell_type": "code",
   "execution_count": null,
   "id": "43c0e2f8-e870-43a1-acb0-f61303409e68",
   "metadata": {},
   "outputs": [],
   "source": [
    "plot_knn(X, clusters, centers)"
   ]
  },
  {
   "cell_type": "markdown",
   "id": "9833a28a-95b9-4ee5-a88d-2d79e96be1a7",
   "metadata": {},
   "source": [
    "Neuzentrieren der Cluster-Zentren: Auswahl des Schwerpunkts"
   ]
  },
  {
   "cell_type": "code",
   "execution_count": null,
   "id": "e66eaae9-3256-4eab-ac8f-97cb888f6a64",
   "metadata": {},
   "outputs": [],
   "source": [
    "def recenter(X, cluster, K):\n",
    "    centers = list()\n",
    "    for k in range(K):\n",
    "        idx = np.where(cluster==k)\n",
    "        #print(idx)\n",
    "        if len(idx):\n",
    "            c = np.mean(X[clusters==k,:], axis=0)\n",
    "        else:\n",
    "            c = (np.inf, np.inf)\n",
    "        centers.append(c)\n",
    "    return np.vstack(centers)"
   ]
  },
  {
   "cell_type": "code",
   "execution_count": null,
   "id": "2cc8e580-f2a7-425a-9e9c-708d0333f3f6",
   "metadata": {},
   "outputs": [],
   "source": [
    "centers = recenter(X, clusters, K)"
   ]
  },
  {
   "cell_type": "markdown",
   "id": "0f6bddc4-4a7e-4c6a-9363-040ff6548230",
   "metadata": {},
   "source": [
    "Plot der neu festgelegten Cluster-Zentren"
   ]
  },
  {
   "cell_type": "code",
   "execution_count": null,
   "id": "834081de-b72b-4a4f-8b51-886526c0c58d",
   "metadata": {},
   "outputs": [],
   "source": [
    "plot_knn(X, clusters, centers)"
   ]
  },
  {
   "cell_type": "markdown",
   "id": "4d5b6eeb-3007-4103-bf18-2a5030ddbaf5",
   "metadata": {},
   "source": [
    "… und wiederhole beide Schritte bis zur gewünschten Genauigkeit"
   ]
  },
  {
   "cell_type": "markdown",
   "id": "f59bd868-69ee-4071-a562-329e3124238c",
   "metadata": {},
   "source": [
    "Illustration 5 Iterationen"
   ]
  },
  {
   "cell_type": "code",
   "execution_count": null,
   "id": "c4e999d1-90f0-4b41-a9d7-e1add928e006",
   "metadata": {},
   "outputs": [],
   "source": [
    "K = 3\n",
    "iterations = 5\n",
    "centers = np.random.uniform(-1, 1, (K, 2))\n",
    "# dummy Cluster K\n",
    "clusters = np.full(X.shape[0], K)\n",
    "nr = 0\n",
    "plt.figure(figsize=(10, 20))\n",
    "for i in range(iterations):\n",
    "    nr += 1\n",
    "    plt.subplot(iterations, 2, nr)\n",
    "    plot_knn(X, clusters, centers)\n",
    "    plt.title('Recenter {}'.format(i+1))\n",
    "    clusters = get_cluster(X, centers)\n",
    "    nr += 1\n",
    "    plt.subplot(iterations, 2, nr)\n",
    "    plot_knn(X, clusters, centers)\n",
    "    plt.title('Get cluster {}'.format(i+1))\n",
    "    centers = recenter(X, clusters, K)"
   ]
  },
  {
   "cell_type": "markdown",
   "id": "eafac71e-5077-4777-b75d-3a723c61276b",
   "metadata": {},
   "source": [
    "## KMeans-Clustering in Scikit-Learn"
   ]
  },
  {
   "cell_type": "code",
   "execution_count": null,
   "id": "156ffce1-8cb6-4228-8b57-ca7baf09fe51",
   "metadata": {},
   "outputs": [],
   "source": [
    "from sklearn.cluster import KMeans"
   ]
  },
  {
   "cell_type": "markdown",
   "id": "ca0f681f-ab7c-4526-8207-3d84ad3d1761",
   "metadata": {},
   "source": [
    "Initialisieren und Trainieren, `n_init` legt die Zahl der Versuche für initiale Auswahl der Cluster-Zentren fest."
   ]
  },
  {
   "cell_type": "code",
   "execution_count": null,
   "id": "a6533049-888b-4490-b015-f0d37aaddc6a",
   "metadata": {},
   "outputs": [],
   "source": [
    "kmean = KMeans(n_init='auto', n_clusters=3)\n",
    "kmean.fit(X)"
   ]
  },
  {
   "cell_type": "markdown",
   "id": "6ccca712-86fc-431c-8adf-d0162ae5ebc8",
   "metadata": {},
   "source": [
    "Darstellung des Cluster."
   ]
  },
  {
   "cell_type": "code",
   "execution_count": null,
   "id": "9bdcc056-923d-4361-ac77-d8ec1ad6058c",
   "metadata": {},
   "outputs": [],
   "source": [
    "plot_knn(X, kmean.labels_, kmean.cluster_centers_)"
   ]
  }
 ],
 "metadata": {
  "kernelspec": {
   "display_name": "Python 3 (ipykernel)",
   "language": "python",
   "name": "python3"
  },
  "language_info": {
   "codemirror_mode": {
    "name": "ipython",
    "version": 3
   },
   "file_extension": ".py",
   "mimetype": "text/x-python",
   "name": "python",
   "nbconvert_exporter": "python",
   "pygments_lexer": "ipython3",
   "version": "3.11.5"
  }
 },
 "nbformat": 4,
 "nbformat_minor": 5
}
