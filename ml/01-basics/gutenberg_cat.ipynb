{
 "cells": [
  {
   "cell_type": "markdown",
   "id": "63128bd1-2b16-4c51-9f93-82bd49559c1e",
   "metadata": {},
   "source": [
    "# Auswertung Gutenberg-Katalog"
   ]
  },
  {
   "cell_type": "markdown",
   "id": "bde10005-009b-4aea-990b-3cd722b7c552",
   "metadata": {},
   "source": [
    "Notwendige Importe"
   ]
  },
  {
   "cell_type": "code",
   "execution_count": null,
   "id": "58d2aae0-8170-4434-9dc6-5137f84d2599",
   "metadata": {},
   "outputs": [],
   "source": [
    "import csv\n",
    "import urllib"
   ]
  },
  {
   "cell_type": "markdown",
   "id": "7eef4dbc-4d12-49ad-94e8-8b7eac8e6631",
   "metadata": {},
   "source": [
    "Definition Klasse Book"
   ]
  },
  {
   "cell_type": "code",
   "execution_count": null,
   "id": "d070c2d6-15e9-460b-bc46-2c5d85ae1d65",
   "metadata": {},
   "outputs": [],
   "source": [
    "class Book:\n",
    "    def __init__(self, text_nr, type, issued, title, lang, authors, subjects, locc, bookshelves):\n",
    "        self.__nr = text_nr\n",
    "        self.__type = type\n",
    "        self.__issued = issued\n",
    "        self.__title = title\n",
    "        self.__lang = [e.strip() for e in lang.split(';')]\n",
    "        self.__authors = authors\n",
    "        self.__subjects = subjects\n",
    "        self.__locc = [e.strip() for e in locc.split(';')]\n",
    "        self.__bookshelves = bookshelves\n",
    "    def text_nr(self):\n",
    "        return self.__nr\n",
    "    def title(self): return self.__title\n",
    "    def lang(self): return self.__lang\n",
    "    def locc(self): return self.__locc\n",
    "\n",
    "    def __str__(self):\n",
    "        return '({}) {}: {} [{}] [{}]'.format(self.__nr, self.__authors, self.__title, self.__lang, self.__locc)"
   ]
  },
  {
   "cell_type": "markdown",
   "id": "fe827aa4-d795-4359-b826-e79c51de2c5d",
   "metadata": {},
   "source": [
    "Lese Daten von URL, wandle zeilenweise in String um"
   ]
  },
  {
   "cell_type": "code",
   "execution_count": null,
   "id": "d711383a-c8ba-4b04-a584-f1a677254b00",
   "metadata": {},
   "outputs": [],
   "source": [
    "response = urllib.request.urlopen('https://www.gutenberg.org/cache/epub/feeds/pg_catalog.csv')\n",
    "lines = list()\n",
    "for line_buffer in response.readlines():\n",
    "    line = line_buffer.decode('utf8')\n",
    "    lines.append(line)"
   ]
  },
  {
   "cell_type": "markdown",
   "id": "751393a6-9154-435b-81e9-db1d62552ecf",
   "metadata": {},
   "source": [
    "Testanzeige"
   ]
  },
  {
   "cell_type": "code",
   "execution_count": null,
   "id": "08db70c2-2392-494e-b545-9b658c2648a5",
   "metadata": {},
   "outputs": [],
   "source": [
    "lines"
   ]
  },
  {
   "cell_type": "markdown",
   "id": "03bf85d8-bfef-489a-bfdc-f812d5ead008",
   "metadata": {},
   "source": [
    "Verarbeiten der Zeilen (Stringsliste) als CSV, Überspringen der 1. Zeile (Kopfzeile)"
   ]
  },
  {
   "cell_type": "code",
   "execution_count": null,
   "id": "3ce1eedd-d94c-441b-9a57-2e5074188c4e",
   "metadata": {},
   "outputs": [],
   "source": [
    "cr = csv.reader(lines)\n",
    "l = next(cr)\n",
    "print(l)\n",
    "books = list()\n",
    "for entry in cr:\n",
    "    book = Book(*entry)\n",
    "    books.append(book)"
   ]
  },
  {
   "cell_type": "markdown",
   "id": "03d64c1d-f996-4088-a86f-7060f9add65f",
   "metadata": {},
   "source": [
    "Testausgabe 1. Zeile"
   ]
  },
  {
   "cell_type": "code",
   "execution_count": null,
   "id": "53d05f46-5280-4965-856a-b32872313ac1",
   "metadata": {},
   "outputs": [],
   "source": [
    "print(books[0])"
   ]
  },
  {
   "cell_type": "markdown",
   "id": "e4d3c3d4-b963-4888-9016-7dc8c74c3379",
   "metadata": {},
   "source": [
    "Extrahieren der deutschen Bücher"
   ]
  },
  {
   "cell_type": "code",
   "execution_count": null,
   "id": "11aef7d6-a364-4199-8a4f-abd5f14242d0",
   "metadata": {},
   "outputs": [],
   "source": [
    "books_de = list()\n",
    "for b in books:\n",
    "    if 'de' in b.lang():\n",
    "        books_de.append(b)\n",
    "print(len(books_de))\n",
    "print(books_de[0])"
   ]
  },
  {
   "cell_type": "markdown",
   "id": "6cb62c37-dab2-4ea1-8e2b-b6fe7bacedd2",
   "metadata": {},
   "source": [
    "Zählen der Sprachen"
   ]
  },
  {
   "cell_type": "code",
   "execution_count": null,
   "id": "7f462ebd-6a49-4d2b-9538-33988674a3aa",
   "metadata": {},
   "outputs": [],
   "source": [
    "book_lang = dict()\n",
    "for b in books:\n",
    "    for l in b.lang():\n",
    "        if l in book_lang:\n",
    "            book_lang[l] += 1\n",
    "        else:\n",
    "            book_lang[l] = 1\n",
    "book_lang"
   ]
  },
  {
   "cell_type": "markdown",
   "id": "22f36c7d-238c-4dc8-977b-6de87ea831d1",
   "metadata": {},
   "source": [
    "Vergleich Anzahl Bücher, Anzahl Bücher pro Sprache"
   ]
  },
  {
   "cell_type": "code",
   "execution_count": null,
   "id": "93b0b67b-3b45-43c4-b7c2-e723ac3be95c",
   "metadata": {},
   "outputs": [],
   "source": [
    "cnt = 0\n",
    "for k in book_lang:\n",
    "    cnt += book_lang[k]\n",
    "cnt, len(books)"
   ]
  }
 ],
 "metadata": {
  "kernelspec": {
   "display_name": "Python 3 (ipykernel)",
   "language": "python",
   "name": "python3"
  },
  "language_info": {
   "codemirror_mode": {
    "name": "ipython",
    "version": 3
   },
   "file_extension": ".py",
   "mimetype": "text/x-python",
   "name": "python",
   "nbconvert_exporter": "python",
   "pygments_lexer": "ipython3",
   "version": "3.11.5"
  }
 },
 "nbformat": 4,
 "nbformat_minor": 5
}
