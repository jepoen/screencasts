{
 "cells": [
  {
   "cell_type": "markdown",
   "id": "interim-office",
   "metadata": {},
   "source": [
    "# Preprocessing (Brilliant Diamonds)"
   ]
  },
  {
   "cell_type": "markdown",
   "id": "popular-bullet",
   "metadata": {},
   "source": [
    "Von *scikit-learn* benötigen wir:\n",
    "\n",
    "- ``compose`` für Transformation unterschiedlicher Spaltentypen\n",
    "- ``preprocessing`` für die eigentlichen Transformatoren\n",
    "- ``tree`` und ``metrics`` für die Testklassifikation"
   ]
  },
  {
   "cell_type": "code",
   "execution_count": null,
   "id": "fourth-reality",
   "metadata": {},
   "outputs": [],
   "source": [
    "import pandas as pd\n",
    "import numpy as np\n",
    "import brilliantdia_iohelper\n",
    "from sklearn import compose, preprocessing, tree, metrics"
   ]
  },
  {
   "cell_type": "markdown",
   "id": "lesbian-occurrence",
   "metadata": {},
   "source": [
    "Einlesen der Trainings- und Testdaten."
   ]
  },
  {
   "cell_type": "code",
   "execution_count": null,
   "id": "twenty-amber",
   "metadata": {},
   "outputs": [],
   "source": [
    "dfTrain, boundaries = brilliantdia_iohelper.readAsClass('brilliantdia-train.csv', 4)\n",
    "dfTest, _ = brilliantdia_iohelper.readAsClass('brilliantdia-test.csv', 4)\n",
    "dfTrain.info()"
   ]
  },
  {
   "cell_type": "markdown",
   "id": "corrected-muscle",
   "metadata": {},
   "source": [
    "Prüfen, ob Werte fehlen (durch einfaches Zählen aller Fehlwerte)."
   ]
  },
  {
   "cell_type": "code",
   "execution_count": null,
   "id": "amended-hormone",
   "metadata": {},
   "outputs": [],
   "source": [
    "np.count_nonzero(dfTrain.isna())"
   ]
  },
  {
   "cell_type": "markdown",
   "id": "floppy-uncle",
   "metadata": {},
   "source": [
    "Auswahl der numerischen und kategorialen Spalten. ``ityp`` nimmt nur zwei Werte an, keine Konvertierung erforderlich."
   ]
  },
  {
   "cell_type": "code",
   "execution_count": null,
   "id": "adjacent-empire",
   "metadata": {},
   "outputs": [],
   "source": [
    "numCols = ['carat', 'icol', 'icut', 'iclar']\n",
    "catCols = ['ishape', 'irep']\n",
    "passCols = ['ityp']"
   ]
  },
  {
   "cell_type": "markdown",
   "id": "provincial-relationship",
   "metadata": {},
   "source": [
    "Anzeige der unterschiedlichen Werte je Kategorie."
   ]
  },
  {
   "cell_type": "code",
   "execution_count": null,
   "id": "rural-insurance",
   "metadata": {},
   "outputs": [],
   "source": [
    "for col in catCols:\n",
    "    print('Train:', col, dfTrain[col].unique())\n",
    "    print('Test', col, dfTest[col].unique())"
   ]
  },
  {
   "cell_type": "markdown",
   "id": "geological-water",
   "metadata": {},
   "source": [
    "Dichteplot der metrischen Spalten."
   ]
  },
  {
   "cell_type": "code",
   "execution_count": null,
   "id": "proprietary-blair",
   "metadata": {},
   "outputs": [],
   "source": [
    "ax = dfTrain[numCols].plot.density(subplots=True)"
   ]
  },
  {
   "cell_type": "markdown",
   "id": "renewable-court",
   "metadata": {},
   "source": [
    "… und ein Boxplot."
   ]
  },
  {
   "cell_type": "code",
   "execution_count": null,
   "id": "metric-ethernet",
   "metadata": {},
   "outputs": [],
   "source": [
    "ax = dfTrain[numCols].plot.box()"
   ]
  },
  {
   "cell_type": "markdown",
   "id": "disabled-consultancy",
   "metadata": {},
   "source": [
    "Erzeugen der Transformation. Jeder Transformer ist ein Tripel aus Name, Transformerobjekt und Spaltenliste.\n",
    "Nicht aufgeführte Spalten werden ignoriert.\n",
    "\n",
    "- Training darf nur mit den Trainingsdaten erfolgen.\n",
    "- Transformation sowohl für Trainings- als auch für Testdaten.\n",
    "\n",
    "Hinweis: Sollen Daten mit unbekannten Labels später klassifiziert werden, muss die Zielspalte vor dem Training\n",
    "und der Transformation von den Trainings- und Testdaten entfernt werden."
   ]
  },
  {
   "cell_type": "code",
   "execution_count": null,
   "id": "adaptive-timothy",
   "metadata": {},
   "outputs": [],
   "source": [
    "tr = compose.ColumnTransformer([\n",
    "    #('num', preprocessing.MinMaxScaler(), numCols),\n",
    "    ('num', preprocessing.StandardScaler(), numCols),\n",
    "    ('cat', preprocessing.OneHotEncoder(), catCols),\n",
    "    ('pass', 'passthrough', passCols),\n",
    "])\n",
    "Xtrain = tr.fit(dfTrain).transform(dfTrain)\n",
    "Xtest = tr.transform(dfTest)\n",
    "dfTrain.shape, Xtrain.shape"
   ]
  },
  {
   "cell_type": "markdown",
   "id": "oriental-import",
   "metadata": {},
   "source": [
    "Anzeige der transformierten Daten."
   ]
  },
  {
   "cell_type": "code",
   "execution_count": null,
   "id": "requested-hacker",
   "metadata": {},
   "outputs": [],
   "source": [
    "np.around(Xtrain[:5, :], 2)"
   ]
  },
  {
   "cell_type": "markdown",
   "id": "exceptional-howard",
   "metadata": {},
   "source": [
    "Erzeugen eines Data Frame aus den transformierten Daten für die statistische Auswertung."
   ]
  },
  {
   "cell_type": "code",
   "execution_count": null,
   "id": "blank-replication",
   "metadata": {},
   "outputs": [],
   "source": [
    "dfNumTrain = pd.DataFrame(Xtrain[:, :4], columns=dfTrain.columns[:4])\n",
    "dfNumTest = pd.DataFrame(Xtest[:, :4], columns=dfTest.columns[:4])"
   ]
  },
  {
   "cell_type": "markdown",
   "id": "exclusive-indonesia",
   "metadata": {},
   "source": [
    "Density Plot und Boxplot der transformierten Trainingsdaten."
   ]
  },
  {
   "cell_type": "code",
   "execution_count": null,
   "id": "executive-concentration",
   "metadata": {},
   "outputs": [],
   "source": [
    "ax = dfNumTrain.plot.density(subplots=True)"
   ]
  },
  {
   "cell_type": "code",
   "execution_count": null,
   "id": "mediterranean-webmaster",
   "metadata": {},
   "outputs": [],
   "source": [
    "ax = dfNumTrain.plot.box()"
   ]
  },
  {
   "cell_type": "markdown",
   "id": "functional-germany",
   "metadata": {},
   "source": [
    "Das gleiche für die Testdaten."
   ]
  },
  {
   "cell_type": "code",
   "execution_count": null,
   "id": "direct-order",
   "metadata": {},
   "outputs": [],
   "source": [
    "ax = dfNumTest.plot.density(subplots=True)"
   ]
  },
  {
   "cell_type": "code",
   "execution_count": null,
   "id": "needed-hurricane",
   "metadata": {},
   "outputs": [],
   "source": [
    "ax = dfNumTest.plot.box()"
   ]
  },
  {
   "cell_type": "markdown",
   "id": "bottom-invasion",
   "metadata": {},
   "source": [
    "Erzeugen der Zielvektoren, Prüfen der Dimensionen."
   ]
  },
  {
   "cell_type": "code",
   "execution_count": null,
   "id": "romance-fossil",
   "metadata": {},
   "outputs": [],
   "source": [
    "yTrain = dfTrain.priceClass.values\n",
    "yTest = dfTest.priceClass.values\n",
    "Xtrain.shape, yTrain.shape, Xtest.shape, yTest.shape"
   ]
  },
  {
   "cell_type": "markdown",
   "id": "moved-television",
   "metadata": {},
   "source": [
    "Erzeugen, Trainieren und Bewerten eines Entscheidungsbaums."
   ]
  },
  {
   "cell_type": "code",
   "execution_count": null,
   "id": "soviet-laptop",
   "metadata": {},
   "outputs": [],
   "source": [
    "classifier = tree.DecisionTreeClassifier()\n",
    "classifier.fit(Xtrain, yTrain)\n",
    "print('Train score', classifier.score(Xtrain, yTrain))\n",
    "print('Test score', classifier.score(Xtest, yTest))"
   ]
  },
  {
   "cell_type": "markdown",
   "id": "asian-territory",
   "metadata": {},
   "source": [
    "Confusion Matrix zur detailierten Bewertung."
   ]
  },
  {
   "cell_type": "code",
   "execution_count": null,
   "id": "grateful-disease",
   "metadata": {},
   "outputs": [],
   "source": [
    "predTest = classifier.predict(Xtest)\n",
    "metrics.confusion_matrix(yTest, predTest)"
   ]
  }
 ],
 "metadata": {
  "kernelspec": {
   "display_name": "Python 3",
   "language": "python",
   "name": "python3"
  },
  "language_info": {
   "codemirror_mode": {
    "name": "ipython",
    "version": 3
   },
   "file_extension": ".py",
   "mimetype": "text/x-python",
   "name": "python",
   "nbconvert_exporter": "python",
   "pygments_lexer": "ipython3",
   "version": "3.9.2"
  }
 },
 "nbformat": 4,
 "nbformat_minor": 5
}
