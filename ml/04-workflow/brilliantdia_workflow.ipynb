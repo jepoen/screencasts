{
 "cells": [
  {
   "cell_type": "markdown",
   "id": "compound-ending",
   "metadata": {},
   "source": [
    "# Workflow Klassifikation"
   ]
  },
  {
   "cell_type": "markdown",
   "id": "clear-madagascar",
   "metadata": {},
   "source": [
    "Notwendige Importe. Wir verwenden einen Entscheidungsbaum (Modul ``sklearn.tree``) und eine Bewertungsmetrik (``sklearn.metrics``)."
   ]
  },
  {
   "cell_type": "code",
   "execution_count": null,
   "id": "magnetic-chick",
   "metadata": {},
   "outputs": [],
   "source": [
    "import brilliantdia_iohelper\n",
    "import numpy as np\n",
    "import pandas as pd\n",
    "from sklearn import tree, metrics"
   ]
  },
  {
   "cell_type": "markdown",
   "id": "dated-meter",
   "metadata": {},
   "source": [
    "Einlesen der Trainings- und Testdaten mit der Hilfsfunktion."
   ]
  },
  {
   "cell_type": "code",
   "execution_count": null,
   "id": "tough-warren",
   "metadata": {},
   "outputs": [],
   "source": [
    "dfTrain, boundaries = brilliantdia_iohelper.readAsClass('brilliantdia-train.csv', 4)\n",
    "dfTest, _ = brilliantdia_iohelper.readAsClass('brilliantdia-test.csv', 4)\n",
    "print('Dimension Training', dfTrain.shape)\n",
    "print('Dimension Test', dfTest.shape)\n",
    "print('Klassengrenzen', np.around(boundaries, 2))"
   ]
  },
  {
   "cell_type": "markdown",
   "id": "spectacular-kuwait",
   "metadata": {},
   "source": [
    "Basisinformation Data Frame zur Plausibilitätsprüfung."
   ]
  },
  {
   "cell_type": "code",
   "execution_count": null,
   "id": "linear-testing",
   "metadata": {},
   "outputs": [],
   "source": [
    "dfTrain.info()"
   ]
  },
  {
   "cell_type": "markdown",
   "id": "suffering-appeal",
   "metadata": {},
   "source": [
    "Zerlegen der Trainings- und Testdaten in Features und Zielgröße, Umwandlung in NumPy-Datenstrukturen."
   ]
  },
  {
   "cell_type": "code",
   "execution_count": null,
   "id": "czech-forth",
   "metadata": {},
   "outputs": [],
   "source": [
    "Xtrain = dfTrain.drop('priceClass', axis=1).values\n",
    "yTrain = dfTrain.priceClass.values\n",
    "Xtest = dfTest.drop('priceClass', axis=1).values\n",
    "yTest = dfTest.priceClass.values\n",
    "# Kontrollanzeige\n",
    "print('Train', Xtrain.shape, Xtrain.dtype, yTrain.shape, yTrain.dtype)\n",
    "print('Test', Xtest.shape, Xtest.dtype, yTest.shape, yTest.dtype)"
   ]
  },
  {
   "cell_type": "markdown",
   "id": "selective-plaza",
   "metadata": {},
   "source": [
    "Erzeugen des Klassifizierungsobjekts (Entscheidungsbaum ohne weitere Parameter)."
   ]
  },
  {
   "cell_type": "code",
   "execution_count": null,
   "id": "motivated-joyce",
   "metadata": {},
   "outputs": [],
   "source": [
    "classifier = tree.DecisionTreeClassifier()"
   ]
  },
  {
   "cell_type": "markdown",
   "id": "suspended-holder",
   "metadata": {},
   "source": [
    "Trainieren des Klassifizierers mit den Trainingsdaten."
   ]
  },
  {
   "cell_type": "code",
   "execution_count": null,
   "id": "liberal-complement",
   "metadata": {},
   "outputs": [],
   "source": [
    "classifier.fit(Xtrain, yTrain)"
   ]
  },
  {
   "cell_type": "markdown",
   "id": "fifth-helen",
   "metadata": {},
   "source": [
    "Einfache Bewertung der Genauigkeit (Anteil korrekte Vorhersagen an Gesamtzahl)."
   ]
  },
  {
   "cell_type": "code",
   "execution_count": null,
   "id": "dying-president",
   "metadata": {},
   "outputs": [],
   "source": [
    "classifier.score(Xtrain, yTrain)"
   ]
  },
  {
   "cell_type": "markdown",
   "id": "knowing-wings",
   "metadata": {},
   "source": [
    "… und auf den 114000 Testdaten, die im Training unbekannt waren."
   ]
  },
  {
   "cell_type": "code",
   "execution_count": null,
   "id": "occupied-citation",
   "metadata": {},
   "outputs": [],
   "source": [
    "classifier.score(Xtest, yTest)"
   ]
  },
  {
   "cell_type": "markdown",
   "id": "wrong-hospital",
   "metadata": {},
   "source": [
    "Vorhersage der Klassen aus den Features. Dimension und erste Werte des vorhergesagten Vektors."
   ]
  },
  {
   "cell_type": "code",
   "execution_count": null,
   "id": "loaded-category",
   "metadata": {},
   "outputs": [],
   "source": [
    "predTest = classifier.predict(Xtest)\n",
    "print('Dimensionen Vorhersage', predTest.shape)\n",
    "print('Erste Vorhersagewerte', predTest[:5])"
   ]
  },
  {
   "cell_type": "markdown",
   "id": "liable-journalist",
   "metadata": {},
   "source": [
    "Manuelle Auswertung: Differenzvektor zwischen Vorhersagen und tatsächlichen Daten, Zählen der Werte ungleich 0, Verhältnis zur Gesamtzahl."
   ]
  },
  {
   "cell_type": "code",
   "execution_count": null,
   "id": "different-battle",
   "metadata": {},
   "outputs": [],
   "source": [
    "diffTest = predTest-yTest\n",
    "cntTestErr = np.count_nonzero(diffTest)\n",
    "print('Güte:', 1-cntTestErr/diffTest.shape[0])"
   ]
  },
  {
   "cell_type": "markdown",
   "id": "amino-initial",
   "metadata": {},
   "source": [
    "Genauere Analyse mit Konfusionsmatrix. Zeilen sind die tatsächlichen, Spalten die vorhergesagten Werte. Auf der Diagonale stehen die korrekten Vorhersagen, an den anderen Positionen die Fehler."
   ]
  },
  {
   "cell_type": "code",
   "execution_count": null,
   "id": "subsequent-prison",
   "metadata": {},
   "outputs": [],
   "source": [
    "confTest = metrics.confusion_matrix(yTest, predTest)\n",
    "confTest"
   ]
  },
  {
   "cell_type": "markdown",
   "id": "announced-antibody",
   "metadata": {},
   "source": [
    "Und noch einmal für die Trainingsdaten des Modells."
   ]
  },
  {
   "cell_type": "code",
   "execution_count": null,
   "id": "regulation-discharge",
   "metadata": {},
   "outputs": [],
   "source": [
    "predTrain = classifier.predict(Xtrain)\n",
    "confTrain = metrics.confusion_matrix(yTrain, predTrain)\n",
    "confTrain"
   ]
  }
 ],
 "metadata": {
  "kernelspec": {
   "display_name": "Python 3",
   "language": "python",
   "name": "python3"
  },
  "language_info": {
   "codemirror_mode": {
    "name": "ipython",
    "version": 3
   },
   "file_extension": ".py",
   "mimetype": "text/x-python",
   "name": "python",
   "nbconvert_exporter": "python",
   "pygments_lexer": "ipython3",
   "version": "3.9.2"
  }
 },
 "nbformat": 4,
 "nbformat_minor": 5
}
