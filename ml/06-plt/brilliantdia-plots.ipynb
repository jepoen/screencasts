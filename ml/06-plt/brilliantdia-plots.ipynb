{
 "cells": [
  {
   "cell_type": "markdown",
   "id": "worthy-rating",
   "metadata": {},
   "source": [
    "# Nutzung von Matplotlib"
   ]
  },
  {
   "cell_type": "code",
   "execution_count": null,
   "id": "aware-battery",
   "metadata": {},
   "outputs": [],
   "source": [
    "import pandas as pd\n",
    "import numpy as np\n",
    "import matplotlib.pyplot as plt"
   ]
  },
  {
   "cell_type": "markdown",
   "id": "distant-tuition",
   "metadata": {},
   "source": [
    "Plot zweier Funktionen (logistische und lineare Funktion)\n",
    "\n",
    "Erstellen der Stützstellen, Berechnen der Funktionswerte."
   ]
  },
  {
   "cell_type": "code",
   "execution_count": null,
   "id": "allied-niagara",
   "metadata": {},
   "outputs": [],
   "source": [
    "x = np.linspace(-10, 10, 100)\n",
    "y = 1.0/(1.0+np.exp(-x))\n",
    "ylin = 0.5*x\n",
    "x.shape, y.shape"
   ]
  },
  {
   "cell_type": "markdown",
   "id": "southern-shopper",
   "metadata": {},
   "source": [
    "Erstellen des Funktionsplots.\n",
    "\n",
    "- beide Funktionen\n",
    "- Intervalle beschränken\n",
    "- waagerechte und senkrechte Linie für Ursprung\n",
    "- Titel und Achsenbeschriftung\n",
    "- Legende"
   ]
  },
  {
   "cell_type": "code",
   "execution_count": null,
   "id": "prostate-field",
   "metadata": {},
   "outputs": [],
   "source": [
    "plt.plot(x, y, color='red', label='y = logit(x)')\n",
    "plt.plot(x, ylin, color='green', label='y=½x')\n",
    "plt.xlim(-5, 5)\n",
    "plt.ylim(-1.5, 1.5)\n",
    "plt.hlines(0, -4, 4, ls=':', lw=0.8, color='black', label='y=0')\n",
    "plt.vlines(0, -1, 1, ls=':', lw=0.8, color='black', label='x=0')\n",
    "plt.title('Logistische Funktion')\n",
    "plt.xlabel('x-Achse')\n",
    "plt.ylabel('y-Achse')\n",
    "plt.legend()\n",
    "plt.show()"
   ]
  },
  {
   "cell_type": "markdown",
   "id": "czech-somerset",
   "metadata": {},
   "source": [
    "Einlesen der Daten, Umwandeln in *NumPy*-Array. Spaltennamen sichern."
   ]
  },
  {
   "cell_type": "code",
   "execution_count": null,
   "id": "considerable-dryer",
   "metadata": {},
   "outputs": [],
   "source": [
    "dfDia = pd.read_csv('brilliantdia-train.csv')\n",
    "dataDia = dfDia.values\n",
    "cols = dfDia.columns\n",
    "dataDia.shape, dataDia.dtype, cols"
   ]
  },
  {
   "cell_type": "markdown",
   "id": "vital-swiss",
   "metadata": {},
   "source": [
    "Hilfsvariablen für Spaltenindices."
   ]
  },
  {
   "cell_type": "code",
   "execution_count": null,
   "id": "satisfactory-picture",
   "metadata": {},
   "outputs": [],
   "source": [
    "idxPrice = 0\n",
    "idxCarat = 1\n",
    "idxCol = 2"
   ]
  },
  {
   "cell_type": "markdown",
   "id": "everyday-cement",
   "metadata": {},
   "source": [
    "Scatterplot Gewicht/Farbe, Price als Punktfarbe codiert. Farblegende."
   ]
  },
  {
   "cell_type": "code",
   "execution_count": null,
   "id": "found-knowing",
   "metadata": {},
   "outputs": [],
   "source": [
    "ticks = np.arange(0, 6.6, 0.5)\n",
    "plt.scatter(dataDia[:,idxCarat], dataDia[:, idxCol],\n",
    "            c=dataDia[:, idxPrice], cmap='hot', label='Training')\n",
    "plt.xlim(0, 7)\n",
    "plt.legend()\n",
    "plt.xlabel('Karat')\n",
    "plt.ylabel('Farbcode')\n",
    "plt.xticks(ticks=ticks, labels=ticks)\n",
    "plt.colorbar()\n",
    "plt.show()"
   ]
  },
  {
   "cell_type": "markdown",
   "id": "extended-theme",
   "metadata": {},
   "source": [
    "Mehrere Diagramme als Subplots.\n",
    "\n",
    "- Einstellen Gesamtgröße.\n",
    "- Linear und logarithmische Scalen."
   ]
  },
  {
   "cell_type": "code",
   "execution_count": null,
   "id": "careful-offset",
   "metadata": {},
   "outputs": [],
   "source": [
    "plt.figure(figsize=(15, 15))\n",
    "plt.subplot(2, 2, 1)\n",
    "plt.scatter(dataDia[:,idxCarat], dataDia[:, idxPrice])\n",
    "plt.title('linear')\n",
    "plt.subplot(2, 2, 2)\n",
    "plt.scatter(dataDia[:,idxCarat], dataDia[:, idxPrice])\n",
    "plt.xlim(1e-1, 10)\n",
    "plt.xscale('log')\n",
    "plt.title('x log, y linear')\n",
    "plt.subplot(2, 2, 3)\n",
    "plt.scatter(dataDia[:,idxCarat], dataDia[:, idxPrice])\n",
    "plt.yscale('log')\n",
    "plt.title('x linear, y log')\n",
    "plt.subplot(2, 2, 4)\n",
    "plt.scatter(dataDia[:,idxCarat], dataDia[:, idxPrice])\n",
    "plt.xscale('log')\n",
    "plt.yscale('log')\n",
    "plt.title('x log, y log')\n",
    "plt.show()\n"
   ]
  },
  {
   "cell_type": "markdown",
   "id": "valued-dominican",
   "metadata": {},
   "source": [
    "Darstellen des Zusammenhangs Gewicht/Preis als Funktion. Matrix muss nach x-Werten sortiert werden."
   ]
  },
  {
   "cell_type": "code",
   "execution_count": null,
   "id": "offensive-validity",
   "metadata": {},
   "outputs": [],
   "source": [
    "idxSort = np.argsort(dataDia[:,idxCarat])\n",
    "dataSort = dataDia[idxSort, :]\n",
    "plt.plot(dataSort[:, idxCarat], dataSort[:, idxPrice])\n",
    "plt.yscale('log')\n",
    "plt.xscale('log')"
   ]
  },
  {
   "cell_type": "markdown",
   "id": "periodic-driving",
   "metadata": {},
   "source": [
    "Darstellen einer kategorialen Größe. Zählen der Kategorien und der Häufigkeiten."
   ]
  },
  {
   "cell_type": "code",
   "execution_count": null,
   "id": "diverse-treasure",
   "metadata": {},
   "outputs": [],
   "source": [
    "val, count = np.unique(dataDia[:, idxCol], return_counts=True)\n",
    "val, count"
   ]
  },
  {
   "cell_type": "markdown",
   "id": "ideal-shift",
   "metadata": {},
   "source": [
    "Barplot der Kategorien."
   ]
  },
  {
   "cell_type": "code",
   "execution_count": null,
   "id": "characteristic-recall",
   "metadata": {},
   "outputs": [],
   "source": [
    "plt.bar(val, count)\n",
    "plt.xlabel('Farbcodes')\n",
    "plt.ylabel('Anzahl je Farbe')\n",
    "plt.show()"
   ]
  },
  {
   "cell_type": "markdown",
   "id": "complex-request",
   "metadata": {},
   "source": [
    "Datenverteilung (stetige Größe) als Histogramm durch Zählen der Werte im jeweiligen Intervall (Bin)."
   ]
  },
  {
   "cell_type": "code",
   "execution_count": null,
   "id": "wireless-still",
   "metadata": {},
   "outputs": [],
   "source": [
    "plt.hist(dataDia[:, idxCarat], bins=10, density=True)\n",
    "plt.show()"
   ]
  },
  {
   "cell_type": "markdown",
   "id": "fiscal-poverty",
   "metadata": {},
   "source": [
    "Boxplot aller Spalten im Vergleich. Vorher manuelles Skalieren.\n",
    "\n",
    "Hier können die Boxen sinnvoll mit den Originalspaltennamen beschriftet werden."
   ]
  },
  {
   "cell_type": "code",
   "execution_count": null,
   "id": "valued-tobago",
   "metadata": {},
   "outputs": [],
   "source": [
    "dataScaled = (dataDia-np.min(dataDia, axis=0))/(np.max(dataDia, axis=0)-np.min(dataDia, axis=0))\n",
    "plt.boxplot(dataScaled)\n",
    "plt.xticks(range(1, len(cols)+1), cols)\n",
    "plt.show()"
   ]
  }
 ],
 "metadata": {
  "kernelspec": {
   "display_name": "Python 3",
   "language": "python",
   "name": "python3"
  },
  "language_info": {
   "codemirror_mode": {
    "name": "ipython",
    "version": 3
   },
   "file_extension": ".py",
   "mimetype": "text/x-python",
   "name": "python",
   "nbconvert_exporter": "python",
   "pygments_lexer": "ipython3",
   "version": "3.9.2"
  }
 },
 "nbformat": 4,
 "nbformat_minor": 5
}
